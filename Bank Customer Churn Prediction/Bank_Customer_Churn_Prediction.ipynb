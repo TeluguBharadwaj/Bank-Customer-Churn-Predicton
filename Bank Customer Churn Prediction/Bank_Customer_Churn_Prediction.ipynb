{
 "cells": [
  {
   "cell_type": "code",
   "execution_count": 141,
   "id": "28f4c324",
   "metadata": {},
   "outputs": [],
   "source": [
    "%matplotlib inline\n",
    "import numpy as np\n",
    "import pandas as pd\n",
    "import matplotlib.pyplot as plt\n",
    "import seaborn as sns\n",
    "import warnings\n",
    "warnings.filterwarnings(\"ignore\")\n",
    "pd.set_option(\"display.max_columns\",None)\n",
    "from scipy import stats\n",
    "import statsmodels.api as sm\n",
    "from statsmodels.formula.api import ols\n",
    "from statsmodels.stats.multicomp import pairwise_tukeyhsd\n",
    "from scipy.stats import chi2_contingency\n",
    "from sklearn.linear_model import LogisticRegression\n",
    "from sklearn import metrics\n",
    "from sklearn.metrics import classification_report, confusion_matrix, accuracy_score\n",
    "from sklearn.metrics import classification_report\n",
    "from sklearn.metrics import roc_curve, auc, roc_auc_score\n",
    "from sklearn.utils import resample\n",
    "import sklearn"
   ]
  },
  {
   "cell_type": "code",
   "execution_count": 8,
   "id": "6d63ece4",
   "metadata": {},
   "outputs": [],
   "source": [
    "file = pd.read_csv(\"Bank Customer Churn Prediction.csv\")"
   ]
  },
  {
   "cell_type": "code",
   "execution_count": 9,
   "id": "1456479f",
   "metadata": {},
   "outputs": [],
   "source": [
    "df = pd.DataFrame(file)"
   ]
  },
  {
   "cell_type": "code",
   "execution_count": 10,
   "id": "ea749ce7",
   "metadata": {},
   "outputs": [
    {
     "data": {
      "text/html": [
       "<div>\n",
       "<style scoped>\n",
       "    .dataframe tbody tr th:only-of-type {\n",
       "        vertical-align: middle;\n",
       "    }\n",
       "\n",
       "    .dataframe tbody tr th {\n",
       "        vertical-align: top;\n",
       "    }\n",
       "\n",
       "    .dataframe thead th {\n",
       "        text-align: right;\n",
       "    }\n",
       "</style>\n",
       "<table border=\"1\" class=\"dataframe\">\n",
       "  <thead>\n",
       "    <tr style=\"text-align: right;\">\n",
       "      <th></th>\n",
       "      <th>customer_id</th>\n",
       "      <th>credit_score</th>\n",
       "      <th>country</th>\n",
       "      <th>gender</th>\n",
       "      <th>age</th>\n",
       "      <th>tenure</th>\n",
       "      <th>balance</th>\n",
       "      <th>products_number</th>\n",
       "      <th>credit_card</th>\n",
       "      <th>active_member</th>\n",
       "      <th>estimated_salary</th>\n",
       "      <th>churn</th>\n",
       "    </tr>\n",
       "  </thead>\n",
       "  <tbody>\n",
       "    <tr>\n",
       "      <th>0</th>\n",
       "      <td>15634602</td>\n",
       "      <td>619</td>\n",
       "      <td>France</td>\n",
       "      <td>Female</td>\n",
       "      <td>42</td>\n",
       "      <td>2</td>\n",
       "      <td>0.000000</td>\n",
       "      <td>1</td>\n",
       "      <td>1</td>\n",
       "      <td>1</td>\n",
       "      <td>101348.880000</td>\n",
       "      <td>1</td>\n",
       "    </tr>\n",
       "    <tr>\n",
       "      <th>1</th>\n",
       "      <td>15647311</td>\n",
       "      <td>608</td>\n",
       "      <td>Spain</td>\n",
       "      <td>Female</td>\n",
       "      <td>41</td>\n",
       "      <td>1</td>\n",
       "      <td>83807.860000</td>\n",
       "      <td>1</td>\n",
       "      <td>0</td>\n",
       "      <td>1</td>\n",
       "      <td>112542.580000</td>\n",
       "      <td>0</td>\n",
       "    </tr>\n",
       "    <tr>\n",
       "      <th>2</th>\n",
       "      <td>15619304</td>\n",
       "      <td>502</td>\n",
       "      <td>France</td>\n",
       "      <td>Female</td>\n",
       "      <td>42</td>\n",
       "      <td>8</td>\n",
       "      <td>159660.800000</td>\n",
       "      <td>3</td>\n",
       "      <td>1</td>\n",
       "      <td>0</td>\n",
       "      <td>113931.570000</td>\n",
       "      <td>1</td>\n",
       "    </tr>\n",
       "    <tr>\n",
       "      <th>3</th>\n",
       "      <td>15701354</td>\n",
       "      <td>699</td>\n",
       "      <td>France</td>\n",
       "      <td>Female</td>\n",
       "      <td>39</td>\n",
       "      <td>1</td>\n",
       "      <td>0.000000</td>\n",
       "      <td>2</td>\n",
       "      <td>0</td>\n",
       "      <td>0</td>\n",
       "      <td>93826.630000</td>\n",
       "      <td>0</td>\n",
       "    </tr>\n",
       "    <tr>\n",
       "      <th>4</th>\n",
       "      <td>15737888</td>\n",
       "      <td>850</td>\n",
       "      <td>Spain</td>\n",
       "      <td>Female</td>\n",
       "      <td>43</td>\n",
       "      <td>2</td>\n",
       "      <td>125510.820000</td>\n",
       "      <td>1</td>\n",
       "      <td>1</td>\n",
       "      <td>1</td>\n",
       "      <td>79084.100000</td>\n",
       "      <td>0</td>\n",
       "    </tr>\n",
       "  </tbody>\n",
       "</table>\n",
       "</div>"
      ],
      "text/plain": [
       "   customer_id  credit_score country  gender  age  tenure       balance  \\\n",
       "0     15634602           619  France  Female   42       2      0.000000   \n",
       "1     15647311           608   Spain  Female   41       1  83807.860000   \n",
       "2     15619304           502  France  Female   42       8 159660.800000   \n",
       "3     15701354           699  France  Female   39       1      0.000000   \n",
       "4     15737888           850   Spain  Female   43       2 125510.820000   \n",
       "\n",
       "   products_number  credit_card  active_member  estimated_salary  churn  \n",
       "0                1            1              1     101348.880000      1  \n",
       "1                1            0              1     112542.580000      0  \n",
       "2                3            1              0     113931.570000      1  \n",
       "3                2            0              0      93826.630000      0  \n",
       "4                1            1              1      79084.100000      0  "
      ]
     },
     "execution_count": 10,
     "metadata": {},
     "output_type": "execute_result"
    }
   ],
   "source": [
    "df.head()"
   ]
  },
  {
   "cell_type": "code",
   "execution_count": 11,
   "id": "6bf221ec",
   "metadata": {},
   "outputs": [
    {
     "name": "stdout",
     "output_type": "stream",
     "text": [
      "<class 'pandas.core.frame.DataFrame'>\n",
      "RangeIndex: 10000 entries, 0 to 9999\n",
      "Data columns (total 12 columns):\n",
      " #   Column            Non-Null Count  Dtype  \n",
      "---  ------            --------------  -----  \n",
      " 0   customer_id       10000 non-null  int64  \n",
      " 1   credit_score      10000 non-null  int64  \n",
      " 2   country           10000 non-null  object \n",
      " 3   gender            10000 non-null  object \n",
      " 4   age               10000 non-null  int64  \n",
      " 5   tenure            10000 non-null  int64  \n",
      " 6   balance           10000 non-null  float64\n",
      " 7   products_number   10000 non-null  int64  \n",
      " 8   credit_card       10000 non-null  int64  \n",
      " 9   active_member     10000 non-null  int64  \n",
      " 10  estimated_salary  10000 non-null  float64\n",
      " 11  churn             10000 non-null  int64  \n",
      "dtypes: float64(2), int64(8), object(2)\n",
      "memory usage: 937.6+ KB\n"
     ]
    }
   ],
   "source": [
    "df.info()"
   ]
  },
  {
   "cell_type": "code",
   "execution_count": 12,
   "id": "66183d38",
   "metadata": {},
   "outputs": [
    {
     "data": {
      "text/plain": [
       "customer_id         0\n",
       "credit_score        0\n",
       "country             0\n",
       "gender              0\n",
       "age                 0\n",
       "tenure              0\n",
       "balance             0\n",
       "products_number     0\n",
       "credit_card         0\n",
       "active_member       0\n",
       "estimated_salary    0\n",
       "churn               0\n",
       "dtype: int64"
      ]
     },
     "execution_count": 12,
     "metadata": {},
     "output_type": "execute_result"
    }
   ],
   "source": [
    "df.isnull().sum()"
   ]
  },
  {
   "cell_type": "markdown",
   "id": "e99453f6",
   "metadata": {},
   "source": [
    "#>10000 data entries\n",
    "\n",
    "#>no null values\n",
    "\n",
    "#>12 columns\n",
    "\n",
    "#>churn: target variable, 1== True, 0 ==False"
   ]
  },
  {
   "cell_type": "markdown",
   "id": "5d796af4",
   "metadata": {},
   "source": [
    "# EDA"
   ]
  },
  {
   "cell_type": "code",
   "execution_count": null,
   "id": "e849a7c8",
   "metadata": {},
   "outputs": [],
   "source": [
    "#churn (Target Variable)"
   ]
  },
  {
   "cell_type": "code",
   "execution_count": 15,
   "id": "fe28ee38",
   "metadata": {},
   "outputs": [
    {
     "data": {
      "text/plain": [
       "0    7963\n",
       "1    2037\n",
       "Name: churn, dtype: int64"
      ]
     },
     "execution_count": 15,
     "metadata": {},
     "output_type": "execute_result"
    }
   ],
   "source": [
    "df['churn'].value_counts()"
   ]
  },
  {
   "cell_type": "code",
   "execution_count": 17,
   "id": "824976e0",
   "metadata": {},
   "outputs": [
    {
     "data": {
      "text/plain": [
       "<function matplotlib.pyplot.show(close=None, block=None)>"
      ]
     },
     "execution_count": 17,
     "metadata": {},
     "output_type": "execute_result"
    },
    {
     "data": {
      "image/png": "[encoded data removed]",
      "text/plain": [
       "<Figure size 432x432 with 1 Axes>"
      ]
     },
     "metadata": {},
     "output_type": "display_data"
    }
   ],
   "source": [
    "sns.set()\n",
    "plt.figure(figsize=(6,6))\n",
    "sns.countplot(df['churn'])\n",
    "plt.title('Barplot of churn')\n",
    "plt.show"
   ]
  },
  {
   "cell_type": "markdown",
   "id": "7ce94afd",
   "metadata": {},
   "source": [
    "From the plot it is very clear that the target variable data is heavily imblanced with 1 being very largely under represented compared to grade 0.It is important to note that we have to balance this data for us to use models like decision tress and random forests as these models are extremely sensitive towards imbalanced data"
   ]
  },
  {
   "cell_type": "markdown",
   "id": "b3b55824",
   "metadata": {},
   "source": [
    "# statistical tests on all predictor columns"
   ]
  },
  {
   "cell_type": "code",
   "execution_count": 19,
   "id": "451c71be",
   "metadata": {},
   "outputs": [],
   "source": [
    "#credit_score"
   ]
  },
  {
   "cell_type": "code",
   "execution_count": 20,
   "id": "78714ff0",
   "metadata": {},
   "outputs": [
    {
     "data": {
      "text/plain": [
       "<function matplotlib.pyplot.show(close=None, block=None)>"
      ]
     },
     "execution_count": 20,
     "metadata": {},
     "output_type": "execute_result"
    },
    {
     "data": {
      "image/png": "[encoded data removed]",
      "text/plain": [
       "<Figure size 432x432 with 1 Axes>"
      ]
     },
     "metadata": {},
     "output_type": "display_data"
    }
   ],
   "source": [
    "sns.set()\n",
    "plt.figure(figsize=(6,6))\n",
    "sns.distplot(df['credit_score'])\n",
    "plt.show"
   ]
  },
  {
   "cell_type": "code",
   "execution_count": 23,
   "id": "89112e4c",
   "metadata": {},
   "outputs": [
    {
     "data": {
      "text/plain": [
       "<AxesSubplot:>"
      ]
     },
     "execution_count": 23,
     "metadata": {},
     "output_type": "execute_result"
    },
    {
     "data": {
      "image/png": "[encoded data removed]",
      "text/plain": [
       "<Figure size 432x432 with 1 Axes>"
      ]
     },
     "metadata": {},
     "output_type": "display_data"
    }
   ],
   "source": [
    "credit_score=df['credit_score']\n",
    "plt.figure(figsize=(6,6))\n",
    "props2= dict(boxes='red',whiskers='black',medians='blue',caps='green')\n",
    "credit_score.plot.box(color=props2,patch_artist=True,vert=True)"
   ]
  },
  {
   "cell_type": "code",
   "execution_count": 30,
   "id": "4d22e7ba",
   "metadata": {},
   "outputs": [
    {
     "name": "stdout",
     "output_type": "stream",
     "text": [
      "                  sum_sq          df        F   PR(>F)\n",
      "churn       68567.991510    1.000000 7.344520 0.006740\n",
      "Residual 93340691.714090 9998.000000      NaN      NaN\n"
     ]
    }
   ],
   "source": [
    "#is it a good predictor?\n",
    "#Annova\n",
    "annova=ols('credit_score ~ churn',data=df).fit()\n",
    "an=sm.stats.anova_lm(annova,typ=2)\n",
    "print(an.round(decimals=5))  #Good Predictor"
   ]
  },
  {
   "cell_type": "code",
   "execution_count": 24,
   "id": "1a4efd68",
   "metadata": {},
   "outputs": [],
   "source": [
    "#country"
   ]
  },
  {
   "cell_type": "code",
   "execution_count": 25,
   "id": "2e824d91",
   "metadata": {},
   "outputs": [
    {
     "data": {
      "text/plain": [
       "France     5014\n",
       "Germany    2509\n",
       "Spain      2477\n",
       "Name: country, dtype: int64"
      ]
     },
     "execution_count": 25,
     "metadata": {},
     "output_type": "execute_result"
    }
   ],
   "source": [
    "df['country'].value_counts()"
   ]
  },
  {
   "cell_type": "code",
   "execution_count": 26,
   "id": "096a64fa",
   "metadata": {},
   "outputs": [
    {
     "data": {
      "text/plain": [
       "<function matplotlib.pyplot.show(close=None, block=None)>"
      ]
     },
     "execution_count": 26,
     "metadata": {},
     "output_type": "execute_result"
    },
    {
     "data": {
      "image/png": "[encoded data removed]",
      "text/plain": [
       "<Figure size 432x432 with 1 Axes>"
      ]
     },
     "metadata": {},
     "output_type": "display_data"
    }
   ],
   "source": [
    "sns.set()\n",
    "plt.figure(figsize=(6,6))\n",
    "sns.countplot(df['country'])\n",
    "plt.title('Histogram of country') \n",
    "plt.show"
   ]
  },
  {
   "cell_type": "code",
   "execution_count": 29,
   "id": "206d77e8",
   "metadata": {},
   "outputs": [
    {
     "data": {
      "text/plain": [
       "(301.2553368243453,\n",
       " 3.830317605354266e-66,\n",
       " 2,\n",
       " array([[3992.6482, 1997.9167, 1972.4351],\n",
       "        [1021.3518,  511.0833,  504.5649]]))"
      ]
     },
     "execution_count": 29,
     "metadata": {},
     "output_type": "execute_result"
    }
   ],
   "source": [
    "#is it a good predictor?\n",
    "#chi-square\n",
    "ct_job = pd.crosstab(df.churn, df.country)\n",
    "chi2_contingency(ct_job, correction = False)#good predictor"
   ]
  },
  {
   "cell_type": "code",
   "execution_count": 31,
   "id": "3cc0e3d2",
   "metadata": {},
   "outputs": [],
   "source": [
    "#gender"
   ]
  },
  {
   "cell_type": "code",
   "execution_count": 32,
   "id": "d3e2ff4f",
   "metadata": {},
   "outputs": [
    {
     "data": {
      "text/plain": [
       "Male      5457\n",
       "Female    4543\n",
       "Name: gender, dtype: int64"
      ]
     },
     "execution_count": 32,
     "metadata": {},
     "output_type": "execute_result"
    }
   ],
   "source": [
    "df['gender'].value_counts()"
   ]
  },
  {
   "cell_type": "code",
   "execution_count": 33,
   "id": "4aaba1ae",
   "metadata": {},
   "outputs": [
    {
     "data": {
      "text/plain": [
       "<function matplotlib.pyplot.show(close=None, block=None)>"
      ]
     },
     "execution_count": 33,
     "metadata": {},
     "output_type": "execute_result"
    },
    {
     "data": {
      "image/png": "[encoded data removed]",
      "text/plain": [
       "<Figure size 432x432 with 1 Axes>"
      ]
     },
     "metadata": {},
     "output_type": "display_data"
    }
   ],
   "source": [
    "sns.set()\n",
    "plt.figure(figsize=(6,6))\n",
    "sns.countplot(df['gender'])\n",
    "plt.title('Histogram of gender') \n",
    "plt.show"
   ]
  },
  {
   "cell_type": "code",
   "execution_count": 34,
   "id": "30760006",
   "metadata": {},
   "outputs": [
    {
     "data": {
      "text/plain": [
       "(113.44910030392086,\n",
       " 1.7204149874840846e-26,\n",
       " 1,\n",
       " array([[3617.5909, 4345.4091],\n",
       "        [ 925.4091, 1111.5909]]))"
      ]
     },
     "execution_count": 34,
     "metadata": {},
     "output_type": "execute_result"
    }
   ],
   "source": [
    "#is it a good predictor?\n",
    "#chi-square\n",
    "ct_job = pd.crosstab(df.churn, df.gender)\n",
    "chi2_contingency(ct_job, correction = False)#good predictor"
   ]
  },
  {
   "cell_type": "code",
   "execution_count": 35,
   "id": "39857971",
   "metadata": {},
   "outputs": [],
   "source": [
    "#age"
   ]
  },
  {
   "cell_type": "code",
   "execution_count": 36,
   "id": "b3707daf",
   "metadata": {},
   "outputs": [
    {
     "data": {
      "text/plain": [
       "<function matplotlib.pyplot.show(close=None, block=None)>"
      ]
     },
     "execution_count": 36,
     "metadata": {},
     "output_type": "execute_result"
    },
    {
     "data": {
      "image/png": "[encoded data removed]",
      "text/plain": [
       "<Figure size 432x432 with 1 Axes>"
      ]
     },
     "metadata": {},
     "output_type": "display_data"
    }
   ],
   "source": [
    "sns.set()\n",
    "plt.figure(figsize=(6,6))\n",
    "sns.distplot(df['age'])\n",
    "plt.show"
   ]
  },
  {
   "cell_type": "code",
   "execution_count": 38,
   "id": "5c59a340",
   "metadata": {},
   "outputs": [
    {
     "data": {
      "text/plain": [
       "<AxesSubplot:>"
      ]
     },
     "execution_count": 38,
     "metadata": {},
     "output_type": "execute_result"
    },
    {
     "data": {
      "image/png": "[encoded data removed]",
      "text/plain": [
       "<Figure size 432x432 with 1 Axes>"
      ]
     },
     "metadata": {},
     "output_type": "display_data"
    }
   ],
   "source": [
    "age=df['age']\n",
    "plt.figure(figsize=(6,6))\n",
    "props2= dict(boxes='red',whiskers='black',medians='blue',caps='green')\n",
    "age.plot.box(color=props2,patch_artist=True,vert=True)"
   ]
  },
  {
   "cell_type": "code",
   "execution_count": 39,
   "id": "3d7e5843",
   "metadata": {},
   "outputs": [
    {
     "name": "stdout",
     "output_type": "stream",
     "text": [
      "                 sum_sq          df          F   PR(>F)\n",
      "churn      89536.388940    1.000000 886.063270 0.000000\n",
      "Residual 1010294.458660 9998.000000        NaN      NaN\n"
     ]
    }
   ],
   "source": [
    "#is it a good predictor?\n",
    "#Annova\n",
    "annova=ols('age ~ churn',data=df).fit()\n",
    "an=sm.stats.anova_lm(annova,typ=2)\n",
    "print(an.round(decimals=5))  #Good Predictor"
   ]
  },
  {
   "cell_type": "code",
   "execution_count": 40,
   "id": "9173050b",
   "metadata": {},
   "outputs": [],
   "source": [
    "#tenure"
   ]
  },
  {
   "cell_type": "code",
   "execution_count": 41,
   "id": "0079013d",
   "metadata": {},
   "outputs": [
    {
     "data": {
      "text/plain": [
       "2     1048\n",
       "1     1035\n",
       "7     1028\n",
       "8     1025\n",
       "5     1012\n",
       "3     1009\n",
       "4      989\n",
       "9      984\n",
       "6      967\n",
       "10     490\n",
       "0      413\n",
       "Name: tenure, dtype: int64"
      ]
     },
     "execution_count": 41,
     "metadata": {},
     "output_type": "execute_result"
    }
   ],
   "source": [
    "df['tenure'].value_counts()"
   ]
  },
  {
   "cell_type": "code",
   "execution_count": 42,
   "id": "34f7cab6",
   "metadata": {},
   "outputs": [
    {
     "data": {
      "text/plain": [
       "<function matplotlib.pyplot.show(close=None, block=None)>"
      ]
     },
     "execution_count": 42,
     "metadata": {},
     "output_type": "execute_result"
    },
    {
     "data": {
      "image/png": "[encoded data removed]",
      "text/plain": [
       "<Figure size 432x432 with 1 Axes>"
      ]
     },
     "metadata": {},
     "output_type": "display_data"
    }
   ],
   "source": [
    "sns.set()\n",
    "plt.figure(figsize=(6,6))\n",
    "sns.countplot(df['tenure'])\n",
    "plt.title('Histogram of tenure') \n",
    "plt.show"
   ]
  },
  {
   "cell_type": "code",
   "execution_count": 43,
   "id": "57657a1f",
   "metadata": {},
   "outputs": [
    {
     "data": {
      "text/plain": [
       "(13.900372600390284,\n",
       " 0.17758462026413294,\n",
       " 10,\n",
       " array([[328.8719, 824.1705, 834.5224, 803.4667, 787.5407, 805.8556,\n",
       "         770.0221, 818.5964, 816.2075, 783.5592, 390.187 ],\n",
       "        [ 84.1281, 210.8295, 213.4776, 205.5333, 201.4593, 206.1444,\n",
       "         196.9779, 209.4036, 208.7925, 200.4408,  99.813 ]]))"
      ]
     },
     "execution_count": 43,
     "metadata": {},
     "output_type": "execute_result"
    }
   ],
   "source": [
    "#is it a good predictor?\n",
    "#chi-square\n",
    "ct_job = pd.crosstab(df.churn, df.tenure)\n",
    "chi2_contingency(ct_job, correction = False)#bad predictor"
   ]
  },
  {
   "cell_type": "code",
   "execution_count": 44,
   "id": "856c9f08",
   "metadata": {},
   "outputs": [],
   "source": [
    "#balance"
   ]
  },
  {
   "cell_type": "code",
   "execution_count": 45,
   "id": "b202f13a",
   "metadata": {},
   "outputs": [
    {
     "data": {
      "text/plain": [
       "<function matplotlib.pyplot.show(close=None, block=None)>"
      ]
     },
     "execution_count": 45,
     "metadata": {},
     "output_type": "execute_result"
    },
    {
     "data": {
      "image/png": "[encoded data removed]",
      "text/plain": [
       "<Figure size 432x432 with 1 Axes>"
      ]
     },
     "metadata": {},
     "output_type": "display_data"
    }
   ],
   "source": [
    "sns.set()\n",
    "plt.figure(figsize=(6,6))\n",
    "sns.distplot(df['balance'])\n",
    "plt.show"
   ]
  },
  {
   "cell_type": "code",
   "execution_count": 46,
   "id": "d6d182b4",
   "metadata": {},
   "outputs": [
    {
     "data": {
      "text/plain": [
       "<AxesSubplot:>"
      ]
     },
     "execution_count": 46,
     "metadata": {},
     "output_type": "execute_result"
    },
    {
     "data": {
      "image/png": "[encoded data removed]",
      "text/plain": [
       "<Figure size 432x432 with 1 Axes>"
      ]
     },
     "metadata": {},
     "output_type": "display_data"
    }
   ],
   "source": [
    "balance=df['balance']\n",
    "plt.figure(figsize=(6,6))\n",
    "props2= dict(boxes='red',whiskers='black',medians='blue',caps='green')\n",
    "balance.plot.box(color=props2,patch_artist=True,vert=True)"
   ]
  },
  {
   "cell_type": "code",
   "execution_count": 47,
   "id": "d23527cc",
   "metadata": {},
   "outputs": [
    {
     "name": "stdout",
     "output_type": "stream",
     "text": [
      "                        sum_sq          df          F   PR(>F)\n",
      "churn      546973752381.542236    1.000000 142.473830 0.000000\n",
      "Residual 38383494571349.867188 9998.000000        NaN      NaN\n"
     ]
    }
   ],
   "source": [
    "#is it a good predictor?\n",
    "#Annova\n",
    "annova=ols('balance ~ churn',data=df).fit()\n",
    "an=sm.stats.anova_lm(annova,typ=2)\n",
    "print(an.round(decimals=5))  #Good Predictor"
   ]
  },
  {
   "cell_type": "code",
   "execution_count": 48,
   "id": "8200a8ee",
   "metadata": {},
   "outputs": [],
   "source": [
    "#products_number"
   ]
  },
  {
   "cell_type": "code",
   "execution_count": 49,
   "id": "90fe78b5",
   "metadata": {},
   "outputs": [
    {
     "data": {
      "text/plain": [
       "1    5084\n",
       "2    4590\n",
       "3     266\n",
       "4      60\n",
       "Name: products_number, dtype: int64"
      ]
     },
     "execution_count": 49,
     "metadata": {},
     "output_type": "execute_result"
    }
   ],
   "source": [
    "df['products_number'].value_counts()"
   ]
  },
  {
   "cell_type": "code",
   "execution_count": 50,
   "id": "ee77c685",
   "metadata": {},
   "outputs": [
    {
     "data": {
      "text/plain": [
       "<function matplotlib.pyplot.show(close=None, block=None)>"
      ]
     },
     "execution_count": 50,
     "metadata": {},
     "output_type": "execute_result"
    },
    {
     "data": {
      "image/png": "[encoded data removed]",
      "text/plain": [
       "<Figure size 432x432 with 1 Axes>"
      ]
     },
     "metadata": {},
     "output_type": "display_data"
    }
   ],
   "source": [
    "sns.set()\n",
    "plt.figure(figsize=(6,6))\n",
    "sns.countplot(df['products_number'])\n",
    "plt.title('Histogram of products_number') \n",
    "plt.show"
   ]
  },
  {
   "cell_type": "code",
   "execution_count": 51,
   "id": "092d6713",
   "metadata": {},
   "outputs": [
    {
     "data": {
      "text/plain": [
       "(1503.6293615070408,\n",
       " 0.0,\n",
       " 3,\n",
       " array([[4048.3892, 3655.017 ,  211.8158,   47.778 ],\n",
       "        [1035.6108,  934.983 ,   54.1842,   12.222 ]]))"
      ]
     },
     "execution_count": 51,
     "metadata": {},
     "output_type": "execute_result"
    }
   ],
   "source": [
    "#is it a good predictor?\n",
    "#chi-square\n",
    "ct_job = pd.crosstab(df.churn, df.products_number)\n",
    "chi2_contingency(ct_job, correction = False)#good predictor"
   ]
  },
  {
   "cell_type": "code",
   "execution_count": 52,
   "id": "497517e3",
   "metadata": {},
   "outputs": [],
   "source": [
    "#credit_card"
   ]
  },
  {
   "cell_type": "code",
   "execution_count": 53,
   "id": "cf89d50a",
   "metadata": {},
   "outputs": [
    {
     "data": {
      "text/plain": [
       "1    7055\n",
       "0    2945\n",
       "Name: credit_card, dtype: int64"
      ]
     },
     "execution_count": 53,
     "metadata": {},
     "output_type": "execute_result"
    }
   ],
   "source": [
    "df['credit_card'].value_counts()"
   ]
  },
  {
   "cell_type": "code",
   "execution_count": 54,
   "id": "1e3ec37d",
   "metadata": {},
   "outputs": [
    {
     "data": {
      "text/plain": [
       "<function matplotlib.pyplot.show(close=None, block=None)>"
      ]
     },
     "execution_count": 54,
     "metadata": {},
     "output_type": "execute_result"
    },
    {
     "data": {
      "image/png": "[encoded data removed]",
      "text/plain": [
       "<Figure size 432x432 with 1 Axes>"
      ]
     },
     "metadata": {},
     "output_type": "display_data"
    }
   ],
   "source": [
    "sns.set()\n",
    "plt.figure(figsize=(6,6))\n",
    "sns.countplot(df['credit_card'])\n",
    "plt.title('Histogram of credit_card') \n",
    "plt.show"
   ]
  },
  {
   "cell_type": "code",
   "execution_count": 55,
   "id": "44087e57",
   "metadata": {},
   "outputs": [
    {
     "data": {
      "text/plain": [
       "(0.5094769780392745,\n",
       " 0.475365355970654,\n",
       " 1,\n",
       " array([[2345.1035, 5617.8965],\n",
       "        [ 599.8965, 1437.1035]]))"
      ]
     },
     "execution_count": 55,
     "metadata": {},
     "output_type": "execute_result"
    }
   ],
   "source": [
    "#is it a good predictor?\n",
    "#chi-square\n",
    "ct_job = pd.crosstab(df.churn, df.credit_card)\n",
    "chi2_contingency(ct_job, correction = False)#good predictor"
   ]
  },
  {
   "cell_type": "code",
   "execution_count": null,
   "id": "cd23d871",
   "metadata": {},
   "outputs": [],
   "source": [
    "#active_member"
   ]
  },
  {
   "cell_type": "code",
   "execution_count": 58,
   "id": "e6f7a15d",
   "metadata": {},
   "outputs": [
    {
     "data": {
      "text/plain": [
       "1    5151\n",
       "0    4849\n",
       "Name: active_member, dtype: int64"
      ]
     },
     "execution_count": 58,
     "metadata": {},
     "output_type": "execute_result"
    }
   ],
   "source": [
    "df['active_member'].value_counts()"
   ]
  },
  {
   "cell_type": "code",
   "execution_count": 57,
   "id": "b2f8f2da",
   "metadata": {},
   "outputs": [
    {
     "data": {
      "text/plain": [
       "<function matplotlib.pyplot.show(close=None, block=None)>"
      ]
     },
     "execution_count": 57,
     "metadata": {},
     "output_type": "execute_result"
    },
    {
     "data": {
      "image/png": "[encoded data removed]",
      "text/plain": [
       "<Figure size 432x432 with 1 Axes>"
      ]
     },
     "metadata": {},
     "output_type": "display_data"
    }
   ],
   "source": [
    "sns.set()\n",
    "plt.figure(figsize=(6,6))\n",
    "sns.countplot(df['active_member'])\n",
    "plt.title('Histogram of active_member') \n",
    "plt.show"
   ]
  },
  {
   "cell_type": "code",
   "execution_count": 56,
   "id": "0b47e322",
   "metadata": {},
   "outputs": [
    {
     "data": {
      "text/plain": [
       "(243.7603925023214,\n",
       " 5.953852540364172e-55,\n",
       " 1,\n",
       " array([[3861.2587, 4101.7413],\n",
       "        [ 987.7413, 1049.2587]]))"
      ]
     },
     "execution_count": 56,
     "metadata": {},
     "output_type": "execute_result"
    }
   ],
   "source": [
    "#is it a good predictor?\n",
    "#chi-square\n",
    "ct_job = pd.crosstab(df.churn, df.active_member)\n",
    "chi2_contingency(ct_job, correction = False)#good predictor"
   ]
  },
  {
   "cell_type": "code",
   "execution_count": 59,
   "id": "04d4a40b",
   "metadata": {},
   "outputs": [],
   "source": [
    "#estimated_salary"
   ]
  },
  {
   "cell_type": "code",
   "execution_count": 60,
   "id": "39ae2a76",
   "metadata": {},
   "outputs": [
    {
     "data": {
      "text/plain": [
       "<function matplotlib.pyplot.show(close=None, block=None)>"
      ]
     },
     "execution_count": 60,
     "metadata": {},
     "output_type": "execute_result"
    },
    {
     "data": {
      "image/png": "[encoded data removed]",
      "text/plain": [
       "<Figure size 432x432 with 1 Axes>"
      ]
     },
     "metadata": {},
     "output_type": "display_data"
    }
   ],
   "source": [
    "sns.set()\n",
    "plt.figure(figsize=(6,6))\n",
    "sns.distplot(df['estimated_salary'])\n",
    "plt.show"
   ]
  },
  {
   "cell_type": "code",
   "execution_count": 61,
   "id": "6daea7fc",
   "metadata": {},
   "outputs": [
    {
     "data": {
      "text/plain": [
       "<AxesSubplot:>"
      ]
     },
     "execution_count": 61,
     "metadata": {},
     "output_type": "execute_result"
    },
    {
     "data": {
      "image/png": "[encoded data removed]",
      "text/plain": [
       "<Figure size 432x432 with 1 Axes>"
      ]
     },
     "metadata": {},
     "output_type": "display_data"
    }
   ],
   "source": [
    "estimated_salary=df['estimated_salary']\n",
    "plt.figure(figsize=(6,6))\n",
    "props2= dict(boxes='red',whiskers='black',medians='blue',caps='green')\n",
    "estimated_salary.plot.box(color=props2,patch_artist=True,vert=True)"
   ]
  },
  {
   "cell_type": "code",
   "execution_count": 63,
   "id": "59082af0",
   "metadata": {},
   "outputs": [
    {
     "name": "stdout",
     "output_type": "stream",
     "text": [
      "                        sum_sq          df        F   PR(>F)\n",
      "churn        4839451361.633740    1.000000 1.463260 0.226440\n",
      "Residual 33066420933199.343750 9998.000000      NaN      NaN\n"
     ]
    }
   ],
   "source": [
    "#is it a good predictor?\n",
    "#Annova\n",
    "annova=ols('estimated_salary ~ churn',data=df).fit()\n",
    "an=sm.stats.anova_lm(annova,typ=2)\n",
    "print(an.round(decimals=5))  #bad Predictor"
   ]
  },
  {
   "cell_type": "markdown",
   "id": "d6a0a0b8",
   "metadata": {},
   "source": [
    "Key Findings\n",
    "1. Tenure is from 0 to 10 hence the collected data is for 10 years\n",
    "2. credit card = 0 & 1 ;; Use of credit card:7000 and not using credit card : 3000\n",
    "3. Churn : for (0 : 8000) and (for 1: 2000) hence target variable is imbalanced, either to perform oversampling or undersampling\n",
    "4. Credit score is normally distributed. mode = 650 for near abot 2000 people\n",
    "5. Balance : Nearly 4000 people have zero balance in their account and have average balance maintained by others is arround 11000(11 lac) for 2000 people for remaing are litle more and other 2000 are less than that.\n",
    "6. Active Member : Non- active and active are almost equal in number.\n",
    "7.Estimated salary is uniformly distributed. Range from 25k to 20L is salary band. each slab have approx 1000 to 1500 customers among 8 portions. Hence data represents all sets of class of community having diff salary. min is 11/\n",
    "8. Products offered to customers from 1 to 4, many of them avail any 2 of them nearly 5000 and 4500 for 1 and 2 resp. and remaining are 500 : (300 :3) & (200:4)\n",
    "9. Age 18 to 85. 30 to 45 the number of counts are high. Age can be grouped into three from 18 to 30,30 to 45,45 to 85."
   ]
  },
  {
   "cell_type": "markdown",
   "id": "405c08be",
   "metadata": {},
   "source": [
    "# BIVARIATE ANALYSIS"
   ]
  },
  {
   "cell_type": "code",
   "execution_count": 65,
   "id": "87255776",
   "metadata": {},
   "outputs": [],
   "source": [
    "#1. Does all the non active member are churn?"
   ]
  },
  {
   "cell_type": "code",
   "execution_count": 66,
   "id": "2eb2e1e8",
   "metadata": {},
   "outputs": [],
   "source": [
    "df_nonactive = df[((df['active_member'] == 0))]"
   ]
  },
  {
   "cell_type": "code",
   "execution_count": 67,
   "id": "759d0610",
   "metadata": {},
   "outputs": [
    {
     "data": {
      "text/html": [
       "<div>\n",
       "<style scoped>\n",
       "    .dataframe tbody tr th:only-of-type {\n",
       "        vertical-align: middle;\n",
       "    }\n",
       "\n",
       "    .dataframe tbody tr th {\n",
       "        vertical-align: top;\n",
       "    }\n",
       "\n",
       "    .dataframe thead th {\n",
       "        text-align: right;\n",
       "    }\n",
       "</style>\n",
       "<table border=\"1\" class=\"dataframe\">\n",
       "  <thead>\n",
       "    <tr style=\"text-align: right;\">\n",
       "      <th></th>\n",
       "      <th>churn</th>\n",
       "    </tr>\n",
       "    <tr>\n",
       "      <th>active_member</th>\n",
       "      <th></th>\n",
       "    </tr>\n",
       "  </thead>\n",
       "  <tbody>\n",
       "    <tr>\n",
       "      <th>0</th>\n",
       "      <td>1302</td>\n",
       "    </tr>\n",
       "  </tbody>\n",
       "</table>\n",
       "</div>"
      ],
      "text/plain": [
       "               churn\n",
       "active_member       \n",
       "0               1302"
      ]
     },
     "execution_count": 67,
     "metadata": {},
     "output_type": "execute_result"
    }
   ],
   "source": [
    "pivot_1 = df_nonactive.pivot_table(index =['active_member'],\n",
    "                       values =['churn'],\n",
    "                       aggfunc ='sum')\n",
    "pivot_1"
   ]
  },
  {
   "cell_type": "markdown",
   "id": "6e3a0b09",
   "metadata": {},
   "source": [
    "No... all non active members didnot get churned"
   ]
  },
  {
   "cell_type": "code",
   "execution_count": 68,
   "id": "cfbc344e",
   "metadata": {},
   "outputs": [
    {
     "data": {
      "text/plain": [
       "<AxesSubplot:xlabel='churn', ylabel='count'>"
      ]
     },
     "execution_count": 68,
     "metadata": {},
     "output_type": "execute_result"
    },
    {
     "data": {
      "image/png": "[encoded data removed]",
      "text/plain": [
       "<Figure size 1440x1440 with 6 Axes>"
      ]
     },
     "metadata": {},
     "output_type": "display_data"
    }
   ],
   "source": [
    "plt.figure(figsize = (20,20))\n",
    "\n",
    "plt.subplot(3,2,1)\n",
    "sns.countplot(x = 'churn', hue= 'country', palette='Set2', data = df)\n",
    "\n",
    "plt.subplot(3,2,2)\n",
    "sns.countplot(x = 'churn', hue= 'gender', palette='Set2', data = df)\n",
    "\n",
    "plt.subplot(3,2,3)\n",
    "sns.countplot(x = 'churn', hue= 'tenure', palette='Set2', data = df)\n",
    "\n",
    "plt.subplot(3,2,4)\n",
    "sns.countplot(x = 'churn', hue= 'products_number', palette='Set2', data = df)\n",
    "\n",
    "plt.subplot(3,2,5)\n",
    "sns.countplot(x = 'churn', hue= 'credit_card', palette='Set2', data = df)\n",
    "\n",
    "plt.subplot(3,2,6)\n",
    "sns.countplot(x = 'churn', hue= 'active_member', palette='Set2', data = df)"
   ]
  },
  {
   "cell_type": "markdown",
   "id": "8f966b15",
   "metadata": {},
   "source": [
    "In our bivariate analysis we were able to get some insights, product 2 despite having a lot of samples generally does not have a churn problem, men and women are well distributed in churn values, and the other variables are also well distributed."
   ]
  },
  {
   "cell_type": "code",
   "execution_count": 69,
   "id": "16026ae3",
   "metadata": {},
   "outputs": [
    {
     "data": {
      "text/plain": [
       "<seaborn.axisgrid.FacetGrid at 0x29053fd06a0>"
      ]
     },
     "execution_count": 69,
     "metadata": {},
     "output_type": "execute_result"
    },
    {
     "data": {
      "image/png": "[encoded data removed]",
      "text/plain": [
       "<Figure size 360x360 with 1 Axes>"
      ]
     },
     "metadata": {},
     "output_type": "display_data"
    }
   ],
   "source": [
    "sns.catplot(x = 'churn', y=\"credit_score\", kind=\"box\", data = df)"
   ]
  },
  {
   "cell_type": "markdown",
   "id": "fab79355",
   "metadata": {},
   "source": [
    "When we look at the credit score variable, we can't see much difference between the scores and the chance of churn."
   ]
  },
  {
   "cell_type": "code",
   "execution_count": 70,
   "id": "7c0bae16",
   "metadata": {},
   "outputs": [
    {
     "data": {
      "text/plain": [
       "<seaborn.axisgrid.FacetGrid at 0x29053d4d670>"
      ]
     },
     "execution_count": 70,
     "metadata": {},
     "output_type": "execute_result"
    },
    {
     "data": {
      "image/png": "[encoded data removed]",
      "text/plain": [
       "<Figure size 360x360 with 1 Axes>"
      ]
     },
     "metadata": {},
     "output_type": "display_data"
    }
   ],
   "source": [
    "sns.catplot(x = 'churn', y=\"age\", kind=\"box\", data = df)"
   ]
  },
  {
   "cell_type": "markdown",
   "id": "c882d592",
   "metadata": {},
   "source": [
    "Looking at the age variable, we can see that older people are generally more prone to churn."
   ]
  },
  {
   "cell_type": "code",
   "execution_count": 71,
   "id": "2e5b4a7c",
   "metadata": {},
   "outputs": [
    {
     "data": {
      "text/plain": [
       "<seaborn.axisgrid.FacetGrid at 0x290542dac40>"
      ]
     },
     "execution_count": 71,
     "metadata": {},
     "output_type": "execute_result"
    },
    {
     "data": {
      "image/png": "[encoded data removed]",
      "text/plain": [
       "<Figure size 360x360 with 1 Axes>"
      ]
     },
     "metadata": {},
     "output_type": "display_data"
    }
   ],
   "source": [
    "sns.catplot(x = 'churn', y=\"estimated_salary\", kind=\"box\", data = df)"
   ]
  },
  {
   "cell_type": "markdown",
   "id": "bc211e9d",
   "metadata": {},
   "source": [
    "When we look at the estimated_salary variable, we can't see much difference between the scores and the chance of churn."
   ]
  },
  {
   "cell_type": "markdown",
   "id": "a6771a71",
   "metadata": {},
   "source": [
    "# Handling Outliers"
   ]
  },
  {
   "cell_type": "code",
   "execution_count": 72,
   "id": "33d4843b",
   "metadata": {},
   "outputs": [
    {
     "data": {
      "text/plain": [
       "<AxesSubplot:>"
      ]
     },
     "execution_count": 72,
     "metadata": {},
     "output_type": "execute_result"
    },
    {
     "data": {
      "image/png": "[encoded data removed]",
      "text/plain": [
       "<Figure size 432x432 with 1 Axes>"
      ]
     },
     "metadata": {},
     "output_type": "display_data"
    }
   ],
   "source": [
    "age=df['age']\n",
    "plt.figure(figsize=(6,6))\n",
    "props2= dict(boxes='red',whiskers='black',medians='blue',caps='green')\n",
    "age.plot.box(color=props2,patch_artist=True,vert=True)"
   ]
  },
  {
   "cell_type": "code",
   "execution_count": 73,
   "id": "6ea9379f",
   "metadata": {},
   "outputs": [],
   "source": [
    "def find_boundaries(df,feature):\n",
    "    Q1=df[feature].quantile(.25)\n",
    "    Q3=df[feature].quantile(.75)\n",
    "    IQR=Q3-Q1\n",
    "    lower_boundary=Q1-1.5*IQR\n",
    "    upper_boundary=Q3+1.5*IQR\n",
    "    \n",
    "    return lower_boundary,upper_boundary"
   ]
  },
  {
   "cell_type": "code",
   "execution_count": 74,
   "id": "e41a482c",
   "metadata": {},
   "outputs": [],
   "source": [
    "def find_outliers_IQR(df):\n",
    "\n",
    "   q1=df.quantile(0.25)\n",
    "\n",
    "   q3=df.quantile(0.75)\n",
    "\n",
    "   IQR=q3-q1\n",
    "\n",
    "   outliers = df[((df<(q1-1.5*IQR)) | (df>(q3+1.5*IQR)))]\n",
    "\n",
    "   return outliers"
   ]
  },
  {
   "cell_type": "code",
   "execution_count": 75,
   "id": "2b607e25",
   "metadata": {},
   "outputs": [],
   "source": [
    "def remove_outlier(df_in,feature):\n",
    "    Q1=df_in[feature].quantile(.25)\n",
    "    Q3=df_in[feature].quantile(.75)\n",
    "    IQR=Q3-Q1\n",
    "    lower_boundary=Q1-1.5*IQR\n",
    "    upper_boundary=Q3+1.5*IQR\n",
    "    df_out=df_in.loc[(df_in[feature]>lower_boundary) & (df_in[feature]<upper_boundary)]\n",
    "    \n",
    "    return df_out"
   ]
  },
  {
   "cell_type": "code",
   "execution_count": 77,
   "id": "f2ac733e",
   "metadata": {},
   "outputs": [
    {
     "name": "stdout",
     "output_type": "stream",
     "text": [
      "14.0 62.0\n"
     ]
    }
   ],
   "source": [
    "lower_age,upper_age=find_boundaries(df,'age')\n",
    "print(lower_age,upper_age)"
   ]
  },
  {
   "cell_type": "code",
   "execution_count": 79,
   "id": "9f4b2553",
   "metadata": {},
   "outputs": [
    {
     "name": "stdout",
     "output_type": "stream",
     "text": [
      "number of outliers: 359\n"
     ]
    }
   ],
   "source": [
    "outliers = find_outliers_IQR(df['age'])\n",
    "print('number of outliers: '+ str(len(outliers)))"
   ]
  },
  {
   "cell_type": "code",
   "execution_count": 85,
   "id": "706639d9",
   "metadata": {},
   "outputs": [],
   "source": [
    "df= remove_outlier(df,'age')"
   ]
  },
  {
   "cell_type": "code",
   "execution_count": 86,
   "id": "58a249d6",
   "metadata": {},
   "outputs": [
    {
     "data": {
      "text/plain": [
       "<AxesSubplot:>"
      ]
     },
     "execution_count": 86,
     "metadata": {},
     "output_type": "execute_result"
    },
    {
     "data": {
      "image/png": "[encoded data removed]",
      "text/plain": [
       "<Figure size 432x288 with 1 Axes>"
      ]
     },
     "metadata": {},
     "output_type": "display_data"
    }
   ],
   "source": [
    "age=df['age']\n",
    "props2= dict(boxes='red',whiskers='black',medians='blue',caps='green')\n",
    "age.plot.box(color=props2,patch_artist=True,vert=True)"
   ]
  },
  {
   "cell_type": "code",
   "execution_count": 87,
   "id": "43484ac7",
   "metadata": {},
   "outputs": [
    {
     "data": {
      "text/plain": [
       "<AxesSubplot:>"
      ]
     },
     "execution_count": 87,
     "metadata": {},
     "output_type": "execute_result"
    },
    {
     "data": {
      "image/png": "[encoded data removed]",
      "text/plain": [
       "<Figure size 432x432 with 1 Axes>"
      ]
     },
     "metadata": {},
     "output_type": "display_data"
    }
   ],
   "source": [
    "credit_score=df['credit_score']\n",
    "plt.figure(figsize=(6,6))\n",
    "props2= dict(boxes='red',whiskers='black',medians='blue',caps='green')\n",
    "credit_score.plot.box(color=props2,patch_artist=True,vert=True)"
   ]
  },
  {
   "cell_type": "code",
   "execution_count": 88,
   "id": "00abd528",
   "metadata": {},
   "outputs": [
    {
     "name": "stdout",
     "output_type": "stream",
     "text": [
      "383.875 916.875\n",
      "number of outliers: 15\n"
     ]
    }
   ],
   "source": [
    "lower_credit_score,upper_credit_score=find_boundaries(df,'credit_score')\n",
    "print(lower_credit_score,upper_credit_score)\n",
    "\n",
    "outliers = find_outliers_IQR(df['credit_score'])\n",
    "print('number of outliers: '+ str(len(outliers)))"
   ]
  },
  {
   "cell_type": "code",
   "execution_count": 89,
   "id": "cce1ae62",
   "metadata": {},
   "outputs": [],
   "source": [
    "df= remove_outlier(df,'credit_score')"
   ]
  },
  {
   "cell_type": "code",
   "execution_count": 91,
   "id": "b69e259a",
   "metadata": {},
   "outputs": [
    {
     "data": {
      "text/plain": [
       "<AxesSubplot:>"
      ]
     },
     "execution_count": 91,
     "metadata": {},
     "output_type": "execute_result"
    },
    {
     "data": {
      "image/png": "[encoded data removed]",
      "text/plain": [
       "<Figure size 432x432 with 1 Axes>"
      ]
     },
     "metadata": {},
     "output_type": "display_data"
    }
   ],
   "source": [
    "credit_score=df['credit_score']\n",
    "plt.figure(figsize=(6,6))\n",
    "props2= dict(boxes='red',whiskers='black',medians='blue',caps='green')\n",
    "credit_score.plot.box(color=props2,patch_artist=True,vert=True)"
   ]
  },
  {
   "cell_type": "markdown",
   "id": "fb0357b5",
   "metadata": {},
   "source": [
    "# correlations"
   ]
  },
  {
   "cell_type": "code",
   "execution_count": 92,
   "id": "e51ad645",
   "metadata": {},
   "outputs": [
    {
     "name": "stdout",
     "output_type": "stream",
     "text": [
      "<class 'pandas.core.frame.DataFrame'>\n",
      "RangeIndex: 10000 entries, 0 to 9999\n",
      "Data columns (total 10 columns):\n",
      " #   Column            Non-Null Count  Dtype  \n",
      "---  ------            --------------  -----  \n",
      " 0   customer_id       10000 non-null  int64  \n",
      " 1   credit_score      10000 non-null  int64  \n",
      " 2   age               10000 non-null  int64  \n",
      " 3   tenure            10000 non-null  int64  \n",
      " 4   balance           10000 non-null  float64\n",
      " 5   products_number   10000 non-null  int64  \n",
      " 6   credit_card       10000 non-null  int64  \n",
      " 7   active_member     10000 non-null  int64  \n",
      " 8   estimated_salary  10000 non-null  float64\n",
      " 9   churn             10000 non-null  int64  \n",
      "dtypes: float64(2), int64(8)\n",
      "memory usage: 781.4 KB\n"
     ]
    }
   ],
   "source": [
    "df_numeric.info()"
   ]
  },
  {
   "cell_type": "code",
   "execution_count": 93,
   "id": "9ef62da0",
   "metadata": {},
   "outputs": [],
   "source": [
    "num_col = df[['credit_score','balance','age','estimated_salary','churn']]"
   ]
  },
  {
   "cell_type": "code",
   "execution_count": 94,
   "id": "b5872030",
   "metadata": {},
   "outputs": [
    {
     "data": {
      "text/html": [
       "<div>\n",
       "<style scoped>\n",
       "    .dataframe tbody tr th:only-of-type {\n",
       "        vertical-align: middle;\n",
       "    }\n",
       "\n",
       "    .dataframe tbody tr th {\n",
       "        vertical-align: top;\n",
       "    }\n",
       "\n",
       "    .dataframe thead th {\n",
       "        text-align: right;\n",
       "    }\n",
       "</style>\n",
       "<table border=\"1\" class=\"dataframe\">\n",
       "  <thead>\n",
       "    <tr style=\"text-align: right;\">\n",
       "      <th></th>\n",
       "      <th>credit_score</th>\n",
       "      <th>balance</th>\n",
       "      <th>age</th>\n",
       "      <th>estimated_salary</th>\n",
       "      <th>churn</th>\n",
       "    </tr>\n",
       "  </thead>\n",
       "  <tbody>\n",
       "    <tr>\n",
       "      <th>credit_score</th>\n",
       "      <td>1.000000</td>\n",
       "      <td>0.010068</td>\n",
       "      <td>-0.010587</td>\n",
       "      <td>0.001245</td>\n",
       "      <td>-0.017197</td>\n",
       "    </tr>\n",
       "    <tr>\n",
       "      <th>balance</th>\n",
       "      <td>0.010068</td>\n",
       "      <td>1.000000</td>\n",
       "      <td>0.042184</td>\n",
       "      <td>0.010946</td>\n",
       "      <td>0.116192</td>\n",
       "    </tr>\n",
       "    <tr>\n",
       "      <th>age</th>\n",
       "      <td>-0.010587</td>\n",
       "      <td>0.042184</td>\n",
       "      <td>1.000000</td>\n",
       "      <td>-0.003343</td>\n",
       "      <td>0.357507</td>\n",
       "    </tr>\n",
       "    <tr>\n",
       "      <th>estimated_salary</th>\n",
       "      <td>0.001245</td>\n",
       "      <td>0.010946</td>\n",
       "      <td>-0.003343</td>\n",
       "      <td>1.000000</td>\n",
       "      <td>0.010226</td>\n",
       "    </tr>\n",
       "    <tr>\n",
       "      <th>churn</th>\n",
       "      <td>-0.017197</td>\n",
       "      <td>0.116192</td>\n",
       "      <td>0.357507</td>\n",
       "      <td>0.010226</td>\n",
       "      <td>1.000000</td>\n",
       "    </tr>\n",
       "  </tbody>\n",
       "</table>\n",
       "</div>"
      ],
      "text/plain": [
       "                  credit_score  balance       age  estimated_salary     churn\n",
       "credit_score          1.000000 0.010068 -0.010587          0.001245 -0.017197\n",
       "balance               0.010068 1.000000  0.042184          0.010946  0.116192\n",
       "age                  -0.010587 0.042184  1.000000         -0.003343  0.357507\n",
       "estimated_salary      0.001245 0.010946 -0.003343          1.000000  0.010226\n",
       "churn                -0.017197 0.116192  0.357507          0.010226  1.000000"
      ]
     },
     "execution_count": 94,
     "metadata": {},
     "output_type": "execute_result"
    }
   ],
   "source": [
    "num_col.corr()"
   ]
  },
  {
   "cell_type": "markdown",
   "id": "d19f5756",
   "metadata": {},
   "source": [
    "on based on correlations : \n",
    "The descending order of features are as follows:\n",
    "1. age\n",
    "2.balance\n",
    "3.estimated_salary\n",
    "4.credit score"
   ]
  },
  {
   "cell_type": "markdown",
   "id": "dc681a36",
   "metadata": {},
   "source": [
    "\n",
    "# Model Building"
   ]
  },
  {
   "cell_type": "code",
   "execution_count": 95,
   "id": "da0389a0",
   "metadata": {},
   "outputs": [],
   "source": [
    "#Here we will drop the Variables that we dont need to use in our models.\n",
    "df = df.drop('customer_id', 1)"
   ]
  },
  {
   "cell_type": "code",
   "execution_count": 101,
   "id": "a18f0520",
   "metadata": {},
   "outputs": [],
   "source": [
    "X = df.iloc[:, 0:10].values\n",
    "y = df.iloc[:, 10].values"
   ]
  },
  {
   "cell_type": "markdown",
   "id": "d24c3407",
   "metadata": {},
   "source": [
    "Balancing Classes"
   ]
  },
  {
   "cell_type": "code",
   "execution_count": 103,
   "id": "348e9a2b",
   "metadata": {},
   "outputs": [],
   "source": [
    "from imblearn.over_sampling import RandomOverSampler"
   ]
  },
  {
   "cell_type": "code",
   "execution_count": 104,
   "id": "ef452e3a",
   "metadata": {},
   "outputs": [],
   "source": [
    "ros = RandomOverSampler(random_state=0)"
   ]
  },
  {
   "cell_type": "code",
   "execution_count": 105,
   "id": "3e936d55",
   "metadata": {},
   "outputs": [],
   "source": [
    "X, y = ros.fit_resample(X, y)"
   ]
  },
  {
   "cell_type": "code",
   "execution_count": 106,
   "id": "74de0991",
   "metadata": {},
   "outputs": [
    {
     "data": {
      "image/png": "[encoded data removed]",
      "text/plain": [
       "<Figure size 432x288 with 1 Axes>"
      ]
     },
     "metadata": {},
     "output_type": "display_data"
    }
   ],
   "source": [
    "ax = sns.countplot(x=y)"
   ]
  },
  {
   "cell_type": "markdown",
   "id": "34b23b8c",
   "metadata": {},
   "source": [
    "Label Encoder"
   ]
  },
  {
   "cell_type": "code",
   "execution_count": 108,
   "id": "a181c312",
   "metadata": {},
   "outputs": [],
   "source": [
    "#Using LabelEncoder to transform categorical variables into continuous variables."
   ]
  },
  {
   "cell_type": "code",
   "execution_count": 119,
   "id": "9f3ba0cf",
   "metadata": {},
   "outputs": [],
   "source": [
    "from sklearn import preprocessing\n",
    "from sklearn.preprocessing import LabelEncoder"
   ]
  },
  {
   "cell_type": "code",
   "execution_count": 122,
   "id": "6be41d6d",
   "metadata": {},
   "outputs": [],
   "source": [
    "#label encoding 'country'\n",
    "label_encoder = preprocessing.LabelEncoder()\n",
    "df['country']= label_encoder.fit_transform(df['country'])"
   ]
  },
  {
   "cell_type": "code",
   "execution_count": 124,
   "id": "680f3808",
   "metadata": {},
   "outputs": [],
   "source": [
    "#label encoding 'gender'\n",
    "label_encoder = preprocessing.LabelEncoder()\n",
    "df['gender']= label_encoder.fit_transform(df['gender'])"
   ]
  },
  {
   "cell_type": "markdown",
   "id": "cacc244f",
   "metadata": {},
   "source": [
    "StandardScaler"
   ]
  },
  {
   "cell_type": "code",
   "execution_count": 126,
   "id": "e5b32082",
   "metadata": {},
   "outputs": [],
   "source": [
    "from sklearn.preprocessing import StandardScaler\n",
    "scaler = StandardScaler()\n",
    "X_standard = scaler.fit_transform(X)"
   ]
  },
  {
   "cell_type": "markdown",
   "id": "7b68d9f7",
   "metadata": {},
   "source": [
    "Train Test Split"
   ]
  },
  {
   "cell_type": "code",
   "execution_count": 128,
   "id": "69adcb20",
   "metadata": {},
   "outputs": [],
   "source": [
    "X_train, X_test, y_train, y_test = train_test_split(X_standard, y, test_size = 0.3, random_state = 0)"
   ]
  },
  {
   "cell_type": "code",
   "execution_count": 129,
   "id": "1e040e82",
   "metadata": {},
   "outputs": [
    {
     "data": {
      "text/plain": [
       "((10572, 10), (10572,))"
      ]
     },
     "execution_count": 129,
     "metadata": {},
     "output_type": "execute_result"
    }
   ],
   "source": [
    "X_train.shape, y_train.shape"
   ]
  },
  {
   "cell_type": "code",
   "execution_count": 130,
   "id": "7f6718c9",
   "metadata": {},
   "outputs": [
    {
     "data": {
      "text/plain": [
       "((4532, 10), (4532,))"
      ]
     },
     "execution_count": 130,
     "metadata": {},
     "output_type": "execute_result"
    }
   ],
   "source": [
    "X_test.shape, y_test.shape"
   ]
  },
  {
   "cell_type": "markdown",
   "id": "8f129b4c",
   "metadata": {},
   "source": [
    "# Logistic Regression"
   ]
  },
  {
   "cell_type": "code",
   "execution_count": 131,
   "id": "839f7991",
   "metadata": {},
   "outputs": [],
   "source": [
    "from sklearn.linear_model import LogisticRegression"
   ]
  },
  {
   "cell_type": "code",
   "execution_count": 133,
   "id": "d729fcc5",
   "metadata": {},
   "outputs": [],
   "source": [
    "Logi_Reg = LogisticRegression()\n",
    "LR_Model = Logi_Reg.fit(X_train, y_train)"
   ]
  },
  {
   "cell_type": "code",
   "execution_count": 135,
   "id": "7ff3a703",
   "metadata": {},
   "outputs": [
    {
     "data": {
      "text/plain": [
       "array([1, 0, 0, ..., 0, 0, 1], dtype=int64)"
      ]
     },
     "execution_count": 135,
     "metadata": {},
     "output_type": "execute_result"
    }
   ],
   "source": [
    "Logi_Pred = LR_Model.predict(X_test)\n",
    "Logi_Pred"
   ]
  },
  {
   "cell_type": "code",
   "execution_count": 136,
   "id": "3df35292",
   "metadata": {},
   "outputs": [
    {
     "data": {
      "text/html": [
       "<div>\n",
       "<style scoped>\n",
       "    .dataframe tbody tr th:only-of-type {\n",
       "        vertical-align: middle;\n",
       "    }\n",
       "\n",
       "    .dataframe tbody tr th {\n",
       "        vertical-align: top;\n",
       "    }\n",
       "\n",
       "    .dataframe thead th {\n",
       "        text-align: right;\n",
       "    }\n",
       "</style>\n",
       "<table border=\"1\" class=\"dataframe\">\n",
       "  <thead>\n",
       "    <tr style=\"text-align: right;\">\n",
       "      <th>Predicted</th>\n",
       "      <th>0</th>\n",
       "      <th>1</th>\n",
       "      <th>All</th>\n",
       "    </tr>\n",
       "    <tr>\n",
       "      <th>Actual</th>\n",
       "      <th></th>\n",
       "      <th></th>\n",
       "      <th></th>\n",
       "    </tr>\n",
       "  </thead>\n",
       "  <tbody>\n",
       "    <tr>\n",
       "      <th>0</th>\n",
       "      <td>1646</td>\n",
       "      <td>592</td>\n",
       "      <td>2238</td>\n",
       "    </tr>\n",
       "    <tr>\n",
       "      <th>1</th>\n",
       "      <td>700</td>\n",
       "      <td>1594</td>\n",
       "      <td>2294</td>\n",
       "    </tr>\n",
       "    <tr>\n",
       "      <th>All</th>\n",
       "      <td>2346</td>\n",
       "      <td>2186</td>\n",
       "      <td>4532</td>\n",
       "    </tr>\n",
       "  </tbody>\n",
       "</table>\n",
       "</div>"
      ],
      "text/plain": [
       "Predicted     0     1   All\n",
       "Actual                     \n",
       "0          1646   592  2238\n",
       "1           700  1594  2294\n",
       "All        2346  2186  4532"
      ]
     },
     "execution_count": 136,
     "metadata": {},
     "output_type": "execute_result"
    }
   ],
   "source": [
    "# confusion_matrix\n",
    "pd.crosstab(y_test, Logi_Pred, rownames = ['Actual'], colnames = ['Predicted'], margins = True)"
   ]
  },
  {
   "cell_type": "code",
   "execution_count": 137,
   "id": "15942cb5",
   "metadata": {},
   "outputs": [
    {
     "data": {
      "text/plain": [
       "array([[1646,  592],\n",
       "       [ 700, 1594]], dtype=int64)"
      ]
     },
     "execution_count": 137,
     "metadata": {},
     "output_type": "execute_result"
    }
   ],
   "source": [
    "confusion_matrix(y_test, Logi_Pred)"
   ]
  },
  {
   "cell_type": "code",
   "execution_count": 138,
   "id": "77b0dc13",
   "metadata": {},
   "outputs": [
    {
     "name": "stdout",
     "output_type": "stream",
     "text": [
      "              precision    recall  f1-score   support\n",
      "\n",
      "           0       0.70      0.74      0.72      2238\n",
      "           1       0.73      0.69      0.71      2294\n",
      "\n",
      "    accuracy                           0.71      4532\n",
      "   macro avg       0.72      0.72      0.71      4532\n",
      "weighted avg       0.72      0.71      0.71      4532\n",
      "\n"
     ]
    }
   ],
   "source": [
    "# classification_report\n",
    "\n",
    "print(classification_report(y_test, Logi_Pred))"
   ]
  },
  {
   "cell_type": "code",
   "execution_count": 271,
   "id": "96a590ff",
   "metadata": {},
   "outputs": [
    {
     "data": {
      "text/plain": [
       "0.7149161518093556"
      ]
     },
     "execution_count": 271,
     "metadata": {},
     "output_type": "execute_result"
    }
   ],
   "source": [
    "# accuracy_score\n",
    "Logi_acc = accuracy_score(y_test, Logi_Pred)\n",
    "Logi_acc "
   ]
  },
  {
   "cell_type": "code",
   "execution_count": 144,
   "id": "af0d0369",
   "metadata": {},
   "outputs": [],
   "source": [
    "#ROC Curve\n",
    "false_positive_rateLR,true_positive_rateLR,thresholdsLR=sklearn.metrics.roc_curve(y_test, Logi_Pred)"
   ]
  },
  {
   "cell_type": "code",
   "execution_count": 145,
   "id": "c95cf7f9",
   "metadata": {},
   "outputs": [],
   "source": [
    "roc_aucLR=auc(false_positive_rateLR,true_positive_rateLR)"
   ]
  },
  {
   "cell_type": "code",
   "execution_count": 146,
   "id": "901aab61",
   "metadata": {},
   "outputs": [
    {
     "data": {
      "text/plain": [
       "0.7151671259601727"
      ]
     },
     "execution_count": 146,
     "metadata": {},
     "output_type": "execute_result"
    }
   ],
   "source": [
    "roc_aucLR"
   ]
  },
  {
   "cell_type": "code",
   "execution_count": 148,
   "id": "34ad3cb6",
   "metadata": {},
   "outputs": [
    {
     "data": {
      "image/png": "[encoded data removed]",
      "text/plain": [
       "<Figure size 432x288 with 1 Axes>"
      ]
     },
     "metadata": {
      "needs_background": "light"
     },
     "output_type": "display_data"
    }
   ],
   "source": [
    "#Plot\n",
    "%matplotlib inline\n",
    "plt.figure()\n",
    "plt.plot(false_positive_rateLR,true_positive_rateLR,label='ROC Curve-LR(area=%0.2f)'%roc_aucLR)\n",
    "plt.plot([0,1],[0,1],'k--')#k for black,r for red,b for blue,g for green\n",
    "plt.xlim([0.0,1.05])\n",
    "plt.ylim([0.0,1.05])\n",
    "plt.xlabel('False Positive Rate')\n",
    "plt.ylabel('True Positive Rate')\n",
    "plt.title('Receiverrating characteristic')\n",
    "plt.legend(loc='lower right')\n",
    "plt.show()"
   ]
  },
  {
   "cell_type": "markdown",
   "id": "d575676d",
   "metadata": {},
   "source": [
    "# DECISION TREE"
   ]
  },
  {
   "cell_type": "code",
   "execution_count": 150,
   "id": "feee8d34",
   "metadata": {},
   "outputs": [],
   "source": [
    "from sklearn.tree import DecisionTreeClassifier\n",
    "from sklearn import tree\n",
    "from statsmodels.stats.stattools import durbin_watson"
   ]
  },
  {
   "cell_type": "code",
   "execution_count": 151,
   "id": "566614d1",
   "metadata": {},
   "outputs": [],
   "source": [
    "dt = DecisionTreeClassifier(max_features = None,\n",
    "                            max_depth = 45,\n",
    "                            min_samples_split = 3,\n",
    "                            min_samples_leaf = 30,\n",
    "                            random_state=42)"
   ]
  },
  {
   "cell_type": "code",
   "execution_count": 152,
   "id": "e5b03dba",
   "metadata": {},
   "outputs": [],
   "source": [
    "model = dt.fit(X_train, y_train)"
   ]
  },
  {
   "cell_type": "code",
   "execution_count": 153,
   "id": "79d8c2d3",
   "metadata": {},
   "outputs": [],
   "source": [
    "dtprdt=model.predict(X_test)"
   ]
  },
  {
   "cell_type": "code",
   "execution_count": 154,
   "id": "9cd927e3",
   "metadata": {},
   "outputs": [
    {
     "data": {
      "text/plain": [
       "array([1, 0, 0, ..., 0, 0, 0], dtype=int64)"
      ]
     },
     "execution_count": 154,
     "metadata": {},
     "output_type": "execute_result"
    }
   ],
   "source": [
    "dtprdt"
   ]
  },
  {
   "cell_type": "code",
   "execution_count": 156,
   "id": "0371d22f",
   "metadata": {},
   "outputs": [
    {
     "data": {
      "text/html": [
       "<div>\n",
       "<style scoped>\n",
       "    .dataframe tbody tr th:only-of-type {\n",
       "        vertical-align: middle;\n",
       "    }\n",
       "\n",
       "    .dataframe tbody tr th {\n",
       "        vertical-align: top;\n",
       "    }\n",
       "\n",
       "    .dataframe thead th {\n",
       "        text-align: right;\n",
       "    }\n",
       "</style>\n",
       "<table border=\"1\" class=\"dataframe\">\n",
       "  <thead>\n",
       "    <tr style=\"text-align: right;\">\n",
       "      <th>predict</th>\n",
       "      <th>0</th>\n",
       "      <th>1</th>\n",
       "      <th>All</th>\n",
       "    </tr>\n",
       "    <tr>\n",
       "      <th>Acctual</th>\n",
       "      <th></th>\n",
       "      <th></th>\n",
       "      <th></th>\n",
       "    </tr>\n",
       "  </thead>\n",
       "  <tbody>\n",
       "    <tr>\n",
       "      <th>0</th>\n",
       "      <td>1764</td>\n",
       "      <td>474</td>\n",
       "      <td>2238</td>\n",
       "    </tr>\n",
       "    <tr>\n",
       "      <th>1</th>\n",
       "      <td>485</td>\n",
       "      <td>1809</td>\n",
       "      <td>2294</td>\n",
       "    </tr>\n",
       "    <tr>\n",
       "      <th>All</th>\n",
       "      <td>2249</td>\n",
       "      <td>2283</td>\n",
       "      <td>4532</td>\n",
       "    </tr>\n",
       "  </tbody>\n",
       "</table>\n",
       "</div>"
      ],
      "text/plain": [
       "predict     0     1   All\n",
       "Acctual                  \n",
       "0        1764   474  2238\n",
       "1         485  1809  2294\n",
       "All      2249  2283  4532"
      ]
     },
     "execution_count": 156,
     "metadata": {},
     "output_type": "execute_result"
    }
   ],
   "source": [
    "#cross tab\n",
    "pd.crosstab(y_test,dtprdt,margins=True,rownames=['Acctual'],colnames=['predict'])"
   ]
  },
  {
   "cell_type": "code",
   "execution_count": 157,
   "id": "81e2bcdb",
   "metadata": {},
   "outputs": [
    {
     "name": "stdout",
     "output_type": "stream",
     "text": [
      "              precision    recall  f1-score   support\n",
      "\n",
      "           0       0.78      0.79      0.79      2238\n",
      "           1       0.79      0.79      0.79      2294\n",
      "\n",
      "    accuracy                           0.79      4532\n",
      "   macro avg       0.79      0.79      0.79      4532\n",
      "weighted avg       0.79      0.79      0.79      4532\n",
      "\n"
     ]
    }
   ],
   "source": [
    "print(classification_report(y_test,dtprdt))"
   ]
  },
  {
   "cell_type": "code",
   "execution_count": 158,
   "id": "8e5d902e",
   "metadata": {},
   "outputs": [
    {
     "data": {
      "text/plain": [
       "0.7883936451897617"
      ]
     },
     "execution_count": 158,
     "metadata": {},
     "output_type": "execute_result"
    }
   ],
   "source": [
    "DT_acc=accuracy_score(y_test,dtprdt)\n",
    "DT_acc"
   ]
  },
  {
   "cell_type": "code",
   "execution_count": 166,
   "id": "a78fa4d9",
   "metadata": {},
   "outputs": [
    {
     "data": {
      "text/plain": [
       "0.788391327416667"
      ]
     },
     "execution_count": 166,
     "metadata": {},
     "output_type": "execute_result"
    }
   ],
   "source": [
    "#ROC Curve\n",
    "false_positive_rateDT,true_positive_rateDT,thresholdsDT=sklearn.metrics.roc_curve(y_test, dtprdt)\n",
    "roc_aucDT=auc(false_positive_rateDT,true_positive_rateDT)\n",
    "roc_aucDT"
   ]
  },
  {
   "cell_type": "code",
   "execution_count": 167,
   "id": "2e901ace",
   "metadata": {},
   "outputs": [
    {
     "data": {
      "image/png": "[encoded data removed]",
      "text/plain": [
       "<Figure size 432x288 with 1 Axes>"
      ]
     },
     "metadata": {
      "needs_background": "light"
     },
     "output_type": "display_data"
    }
   ],
   "source": [
    "#Plot\n",
    "%matplotlib inline\n",
    "plt.figure()\n",
    "plt.plot(false_positive_rateDT,true_positive_rateDT,label='ROC Curve-DT(area=%0.2f)'%roc_aucDT)\n",
    "plt.plot([0,1],[0,1],'k--')#k for black,r for red,b for blue,g for green\n",
    "plt.xlim([0.0,1.05])\n",
    "plt.ylim([0.0,1.05])\n",
    "plt.xlabel('False Positive Rate')\n",
    "plt.ylabel('True Positive Rate')\n",
    "plt.title('Receiverrating characteristic')\n",
    "plt.legend(loc='lower right')\n",
    "plt.show()"
   ]
  },
  {
   "cell_type": "markdown",
   "id": "5c071809",
   "metadata": {},
   "source": [
    "# Random Forest"
   ]
  },
  {
   "cell_type": "code",
   "execution_count": 169,
   "id": "bfcc982c",
   "metadata": {},
   "outputs": [],
   "source": [
    "from sklearn.ensemble import RandomForestClassifier"
   ]
  },
  {
   "cell_type": "code",
   "execution_count": 170,
   "id": "660d9ae7",
   "metadata": {},
   "outputs": [],
   "source": [
    "#create the model with 100 tress\n",
    "rf=RandomForestClassifier(n_estimators=100,bootstrap=True,max_features='sqrt')"
   ]
  },
  {
   "cell_type": "code",
   "execution_count": 171,
   "id": "6f718082",
   "metadata": {},
   "outputs": [],
   "source": [
    "rfFit=rf.fit(X_train,y_train)"
   ]
  },
  {
   "cell_type": "code",
   "execution_count": 172,
   "id": "72c04dc9",
   "metadata": {},
   "outputs": [
    {
     "data": {
      "text/plain": [
       "array([1, 0, 0, ..., 0, 0, 1], dtype=int64)"
      ]
     },
     "execution_count": 172,
     "metadata": {},
     "output_type": "execute_result"
    }
   ],
   "source": [
    "#actual class prediction\n",
    "y_predRF=rfFit.predict(X_test)\n",
    "y_predRF"
   ]
  },
  {
   "cell_type": "code",
   "execution_count": 173,
   "id": "245e3af2",
   "metadata": {},
   "outputs": [
    {
     "data": {
      "text/html": [
       "<div>\n",
       "<style scoped>\n",
       "    .dataframe tbody tr th:only-of-type {\n",
       "        vertical-align: middle;\n",
       "    }\n",
       "\n",
       "    .dataframe tbody tr th {\n",
       "        vertical-align: top;\n",
       "    }\n",
       "\n",
       "    .dataframe thead th {\n",
       "        text-align: right;\n",
       "    }\n",
       "</style>\n",
       "<table border=\"1\" class=\"dataframe\">\n",
       "  <thead>\n",
       "    <tr style=\"text-align: right;\">\n",
       "      <th>predict</th>\n",
       "      <th>0</th>\n",
       "      <th>1</th>\n",
       "      <th>All</th>\n",
       "    </tr>\n",
       "    <tr>\n",
       "      <th>Acctual</th>\n",
       "      <th></th>\n",
       "      <th></th>\n",
       "      <th></th>\n",
       "    </tr>\n",
       "  </thead>\n",
       "  <tbody>\n",
       "    <tr>\n",
       "      <th>0</th>\n",
       "      <td>2038</td>\n",
       "      <td>200</td>\n",
       "      <td>2238</td>\n",
       "    </tr>\n",
       "    <tr>\n",
       "      <th>1</th>\n",
       "      <td>53</td>\n",
       "      <td>2241</td>\n",
       "      <td>2294</td>\n",
       "    </tr>\n",
       "    <tr>\n",
       "      <th>All</th>\n",
       "      <td>2091</td>\n",
       "      <td>2441</td>\n",
       "      <td>4532</td>\n",
       "    </tr>\n",
       "  </tbody>\n",
       "</table>\n",
       "</div>"
      ],
      "text/plain": [
       "predict     0     1   All\n",
       "Acctual                  \n",
       "0        2038   200  2238\n",
       "1          53  2241  2294\n",
       "All      2091  2441  4532"
      ]
     },
     "execution_count": 173,
     "metadata": {},
     "output_type": "execute_result"
    }
   ],
   "source": [
    "#cross tab\n",
    "pd.crosstab(y_test,y_predRF,margins=True,rownames=['Acctual'],colnames=['predict'])"
   ]
  },
  {
   "cell_type": "code",
   "execution_count": 174,
   "id": "013d4dca",
   "metadata": {},
   "outputs": [
    {
     "name": "stdout",
     "output_type": "stream",
     "text": [
      "              precision    recall  f1-score   support\n",
      "\n",
      "           0       0.97      0.91      0.94      2238\n",
      "           1       0.92      0.98      0.95      2294\n",
      "\n",
      "    accuracy                           0.94      4532\n",
      "   macro avg       0.95      0.94      0.94      4532\n",
      "weighted avg       0.95      0.94      0.94      4532\n",
      "\n"
     ]
    }
   ],
   "source": [
    "print(classification_report(y_test,y_predRF))"
   ]
  },
  {
   "cell_type": "code",
   "execution_count": 175,
   "id": "b2184462",
   "metadata": {},
   "outputs": [
    {
     "data": {
      "text/plain": [
       "0.9441747572815534"
      ]
     },
     "execution_count": 175,
     "metadata": {},
     "output_type": "execute_result"
    }
   ],
   "source": [
    "RF_Acc=accuracy_score(y_test,y_predRF)\n",
    "RF_Acc"
   ]
  },
  {
   "cell_type": "code",
   "execution_count": 267,
   "id": "9054919c",
   "metadata": {},
   "outputs": [
    {
     "data": {
      "text/plain": [
       "0.9437653730873484"
      ]
     },
     "execution_count": 267,
     "metadata": {},
     "output_type": "execute_result"
    }
   ],
   "source": [
    "#ROC Curve\n",
    "false_positive_rateRF,true_positive_rateRF,thresholdsRF=sklearn.metrics.roc_curve(y_test,y_predRF)\n",
    "roc_aucRF=auc(false_positive_rateRF,true_positive_rateRF)\n",
    "roc_aucRF"
   ]
  },
  {
   "cell_type": "code",
   "execution_count": 268,
   "id": "e7d5d2ac",
   "metadata": {},
   "outputs": [
    {
     "data": {
      "image/png": "[encoded data removed]",
      "text/plain": [
       "<Figure size 432x288 with 1 Axes>"
      ]
     },
     "metadata": {
      "needs_background": "light"
     },
     "output_type": "display_data"
    }
   ],
   "source": [
    "#Plot\n",
    "%matplotlib inline\n",
    "plt.figure()\n",
    "plt.plot(false_positive_rateRF,true_positive_rateRF,label='ROC Curve-RF(area=%0.2f)'%roc_aucRF)\n",
    "plt.plot([0,1],[0,1],'k--')#k for black,r for red,b for blue,g for green\n",
    "plt.xlim([0.0,1.05])\n",
    "plt.ylim([0.0,1.05])\n",
    "plt.xlabel('False Positive Rate')\n",
    "plt.ylabel('True Positive Rate')\n",
    "plt.title('Receiverrating characteristic')\n",
    "plt.legend(loc='lower right')\n",
    "plt.show()"
   ]
  },
  {
   "cell_type": "markdown",
   "id": "52e01525",
   "metadata": {},
   "source": [
    "# Grid search model"
   ]
  },
  {
   "cell_type": "code",
   "execution_count": 178,
   "id": "86e625b7",
   "metadata": {},
   "outputs": [],
   "source": [
    "from sklearn.model_selection import GridSearchCV"
   ]
  },
  {
   "cell_type": "code",
   "execution_count": 179,
   "id": "c98d1f4f",
   "metadata": {},
   "outputs": [],
   "source": [
    "param_grid={'bootstrap':[True],'max_depth':[5,6,7,8],'max_features':['auto','log2'],'n_estimators':[25,50]}"
   ]
  },
  {
   "cell_type": "code",
   "execution_count": 180,
   "id": "3e34f10a",
   "metadata": {},
   "outputs": [],
   "source": [
    "rfr_grid=RandomForestClassifier(random_state=1)"
   ]
  },
  {
   "cell_type": "code",
   "execution_count": 181,
   "id": "667de1d9",
   "metadata": {},
   "outputs": [],
   "source": [
    "g_search=GridSearchCV(estimator=rfr_grid,param_grid=param_grid,cv=3)"
   ]
  },
  {
   "cell_type": "code",
   "execution_count": 182,
   "id": "ea54ccaa",
   "metadata": {},
   "outputs": [],
   "source": [
    "gmod=g_search.fit(X_train,y_train)"
   ]
  },
  {
   "cell_type": "code",
   "execution_count": 183,
   "id": "530c2497",
   "metadata": {},
   "outputs": [
    {
     "name": "stdout",
     "output_type": "stream",
     "text": [
      "{'bootstrap': True, 'max_depth': 8, 'max_features': 'auto', 'n_estimators': 50}\n"
     ]
    }
   ],
   "source": [
    "#best parameters\n",
    "print(gmod.best_params_)"
   ]
  },
  {
   "cell_type": "code",
   "execution_count": 185,
   "id": "d60e29a3",
   "metadata": {},
   "outputs": [
    {
     "data": {
      "text/plain": [
       "array([1, 0, 0, ..., 0, 0, 0], dtype=int64)"
      ]
     },
     "execution_count": 185,
     "metadata": {},
     "output_type": "execute_result"
    }
   ],
   "source": [
    "gprd=gmod.predict(X_test)\n",
    "gprd"
   ]
  },
  {
   "cell_type": "code",
   "execution_count": 186,
   "id": "c62f12da",
   "metadata": {},
   "outputs": [
    {
     "data": {
      "text/html": [
       "<div>\n",
       "<style scoped>\n",
       "    .dataframe tbody tr th:only-of-type {\n",
       "        vertical-align: middle;\n",
       "    }\n",
       "\n",
       "    .dataframe tbody tr th {\n",
       "        vertical-align: top;\n",
       "    }\n",
       "\n",
       "    .dataframe thead th {\n",
       "        text-align: right;\n",
       "    }\n",
       "</style>\n",
       "<table border=\"1\" class=\"dataframe\">\n",
       "  <thead>\n",
       "    <tr style=\"text-align: right;\">\n",
       "      <th>predict</th>\n",
       "      <th>0</th>\n",
       "      <th>1</th>\n",
       "      <th>All</th>\n",
       "    </tr>\n",
       "    <tr>\n",
       "      <th>Acctual</th>\n",
       "      <th></th>\n",
       "      <th></th>\n",
       "      <th></th>\n",
       "    </tr>\n",
       "  </thead>\n",
       "  <tbody>\n",
       "    <tr>\n",
       "      <th>0</th>\n",
       "      <td>1872</td>\n",
       "      <td>366</td>\n",
       "      <td>2238</td>\n",
       "    </tr>\n",
       "    <tr>\n",
       "      <th>1</th>\n",
       "      <td>524</td>\n",
       "      <td>1770</td>\n",
       "      <td>2294</td>\n",
       "    </tr>\n",
       "    <tr>\n",
       "      <th>All</th>\n",
       "      <td>2396</td>\n",
       "      <td>2136</td>\n",
       "      <td>4532</td>\n",
       "    </tr>\n",
       "  </tbody>\n",
       "</table>\n",
       "</div>"
      ],
      "text/plain": [
       "predict     0     1   All\n",
       "Acctual                  \n",
       "0        1872   366  2238\n",
       "1         524  1770  2294\n",
       "All      2396  2136  4532"
      ]
     },
     "execution_count": 186,
     "metadata": {},
     "output_type": "execute_result"
    }
   ],
   "source": [
    "#cross tab\n",
    "pd.crosstab(y_test,gprd,margins=True,rownames=['Acctual'],colnames=['predict'])"
   ]
  },
  {
   "cell_type": "code",
   "execution_count": 187,
   "id": "c305c1ae",
   "metadata": {},
   "outputs": [
    {
     "name": "stdout",
     "output_type": "stream",
     "text": [
      "              precision    recall  f1-score   support\n",
      "\n",
      "           0       0.78      0.84      0.81      2238\n",
      "           1       0.83      0.77      0.80      2294\n",
      "\n",
      "    accuracy                           0.80      4532\n",
      "   macro avg       0.80      0.80      0.80      4532\n",
      "weighted avg       0.81      0.80      0.80      4532\n",
      "\n"
     ]
    }
   ],
   "source": [
    "print(classification_report(y_test,gprd))"
   ]
  },
  {
   "cell_type": "code",
   "execution_count": 188,
   "id": "452ad293",
   "metadata": {},
   "outputs": [
    {
     "data": {
      "text/plain": [
       "0.8036187113857016"
      ]
     },
     "execution_count": 188,
     "metadata": {},
     "output_type": "execute_result"
    }
   ],
   "source": [
    "Grid_acc=accuracy_score(y_test,gprd)\n",
    "Grid_acc"
   ]
  },
  {
   "cell_type": "code",
   "execution_count": 265,
   "id": "602f888a",
   "metadata": {},
   "outputs": [
    {
     "data": {
      "text/plain": [
       "0.8040195778239538"
      ]
     },
     "execution_count": 265,
     "metadata": {},
     "output_type": "execute_result"
    }
   ],
   "source": [
    "#ROC Curve\n",
    "false_positive_rateGR,true_positive_rateGR,thresholdsGR=sklearn.metrics.roc_curve(y_test,gprd)\n",
    "roc_aucGR=auc(false_positive_rateGR,true_positive_rateGR)\n",
    "roc_aucGR"
   ]
  },
  {
   "cell_type": "code",
   "execution_count": 266,
   "id": "7df362a9",
   "metadata": {},
   "outputs": [
    {
     "data": {
      "image/png": "[encoded data removed]",
      "text/plain": [
       "<Figure size 432x288 with 1 Axes>"
      ]
     },
     "metadata": {
      "needs_background": "light"
     },
     "output_type": "display_data"
    }
   ],
   "source": [
    "#Plot\n",
    "%matplotlib inline\n",
    "plt.figure()\n",
    "plt.plot(false_positive_rateGR,true_positive_rateGR,label='ROC Curve-GR(area=%0.2f)'%roc_aucGR)\n",
    "plt.plot([0,1],[0,1],'k--')#k for black,r for red,b for blue,g for green\n",
    "plt.xlim([0.0,1.05])\n",
    "plt.ylim([0.0,1.05])\n",
    "plt.xlabel('False Positive Rate')\n",
    "plt.ylabel('True Positive Rate')\n",
    "plt.title('Receiverrating characteristic')\n",
    "plt.legend(loc='lower right')\n",
    "plt.show()"
   ]
  },
  {
   "cell_type": "markdown",
   "id": "5d9d40a6",
   "metadata": {},
   "source": [
    "# Random search model"
   ]
  },
  {
   "cell_type": "code",
   "execution_count": 191,
   "id": "11061f7d",
   "metadata": {},
   "outputs": [],
   "source": [
    "rfr=RandomForestClassifier(random_state=1)"
   ]
  },
  {
   "cell_type": "code",
   "execution_count": 192,
   "id": "f49e0cb1",
   "metadata": {},
   "outputs": [],
   "source": [
    "from sklearn.model_selection import RandomizedSearchCV\n",
    "rfr_random=RandomizedSearchCV(estimator=rfr,param_distributions=param_grid,n_iter=20,cv=3,random_state=421)"
   ]
  },
  {
   "cell_type": "code",
   "execution_count": 193,
   "id": "d30bb3ab",
   "metadata": {},
   "outputs": [],
   "source": [
    "rmod=rfr_random.fit(X_train,y_train)"
   ]
  },
  {
   "cell_type": "code",
   "execution_count": 194,
   "id": "2f88f37b",
   "metadata": {},
   "outputs": [
    {
     "name": "stdout",
     "output_type": "stream",
     "text": [
      "{'n_estimators': 50, 'max_features': 'auto', 'max_depth': 8, 'bootstrap': True}\n"
     ]
    }
   ],
   "source": [
    "#best parameters\n",
    "print(rmod.best_params_)"
   ]
  },
  {
   "cell_type": "code",
   "execution_count": 196,
   "id": "a3fa68e3",
   "metadata": {},
   "outputs": [
    {
     "data": {
      "text/plain": [
       "array([1, 0, 0, ..., 0, 0, 0], dtype=int64)"
      ]
     },
     "execution_count": 196,
     "metadata": {},
     "output_type": "execute_result"
    }
   ],
   "source": [
    "rprd=rmod.predict(X_test)\n",
    "rprd"
   ]
  },
  {
   "cell_type": "code",
   "execution_count": 197,
   "id": "c43c4e74",
   "metadata": {},
   "outputs": [
    {
     "data": {
      "text/html": [
       "<div>\n",
       "<style scoped>\n",
       "    .dataframe tbody tr th:only-of-type {\n",
       "        vertical-align: middle;\n",
       "    }\n",
       "\n",
       "    .dataframe tbody tr th {\n",
       "        vertical-align: top;\n",
       "    }\n",
       "\n",
       "    .dataframe thead th {\n",
       "        text-align: right;\n",
       "    }\n",
       "</style>\n",
       "<table border=\"1\" class=\"dataframe\">\n",
       "  <thead>\n",
       "    <tr style=\"text-align: right;\">\n",
       "      <th>predict</th>\n",
       "      <th>0</th>\n",
       "      <th>1</th>\n",
       "      <th>All</th>\n",
       "    </tr>\n",
       "    <tr>\n",
       "      <th>Acctual</th>\n",
       "      <th></th>\n",
       "      <th></th>\n",
       "      <th></th>\n",
       "    </tr>\n",
       "  </thead>\n",
       "  <tbody>\n",
       "    <tr>\n",
       "      <th>0</th>\n",
       "      <td>1872</td>\n",
       "      <td>366</td>\n",
       "      <td>2238</td>\n",
       "    </tr>\n",
       "    <tr>\n",
       "      <th>1</th>\n",
       "      <td>524</td>\n",
       "      <td>1770</td>\n",
       "      <td>2294</td>\n",
       "    </tr>\n",
       "    <tr>\n",
       "      <th>All</th>\n",
       "      <td>2396</td>\n",
       "      <td>2136</td>\n",
       "      <td>4532</td>\n",
       "    </tr>\n",
       "  </tbody>\n",
       "</table>\n",
       "</div>"
      ],
      "text/plain": [
       "predict     0     1   All\n",
       "Acctual                  \n",
       "0        1872   366  2238\n",
       "1         524  1770  2294\n",
       "All      2396  2136  4532"
      ]
     },
     "execution_count": 197,
     "metadata": {},
     "output_type": "execute_result"
    }
   ],
   "source": [
    "#cross tab\n",
    "pd.crosstab(y_test,rprd,margins=True,rownames=['Acctual'],colnames=['predict'])"
   ]
  },
  {
   "cell_type": "code",
   "execution_count": 198,
   "id": "30376353",
   "metadata": {},
   "outputs": [
    {
     "name": "stdout",
     "output_type": "stream",
     "text": [
      "              precision    recall  f1-score   support\n",
      "\n",
      "           0       0.78      0.84      0.81      2238\n",
      "           1       0.83      0.77      0.80      2294\n",
      "\n",
      "    accuracy                           0.80      4532\n",
      "   macro avg       0.80      0.80      0.80      4532\n",
      "weighted avg       0.81      0.80      0.80      4532\n",
      "\n"
     ]
    }
   ],
   "source": [
    "print(classification_report(y_test,rprd))"
   ]
  },
  {
   "cell_type": "code",
   "execution_count": 199,
   "id": "fac6fecc",
   "metadata": {},
   "outputs": [
    {
     "data": {
      "text/plain": [
       "0.8036187113857016"
      ]
     },
     "execution_count": 199,
     "metadata": {},
     "output_type": "execute_result"
    }
   ],
   "source": [
    "RanSearch_acc=accuracy_score(y_test,rprd)\n",
    "RanSearch_acc"
   ]
  },
  {
   "cell_type": "code",
   "execution_count": 263,
   "id": "1ec9f24b",
   "metadata": {},
   "outputs": [
    {
     "data": {
      "text/plain": [
       "0.8040195778239538"
      ]
     },
     "execution_count": 263,
     "metadata": {},
     "output_type": "execute_result"
    }
   ],
   "source": [
    "#ROC Curve\n",
    "false_positive_rateRR,true_positive_rateRR,thresholdsRR=sklearn.metrics.roc_curve(y_test,rprd)\n",
    "roc_aucRR=auc(false_positive_rateRR,true_positive_rateRR)\n",
    "roc_aucRR"
   ]
  },
  {
   "cell_type": "code",
   "execution_count": 264,
   "id": "0b08f784",
   "metadata": {},
   "outputs": [
    {
     "data": {
      "image/png": "[encoded data removed]",
      "text/plain": [
       "<Figure size 432x288 with 1 Axes>"
      ]
     },
     "metadata": {
      "needs_background": "light"
     },
     "output_type": "display_data"
    }
   ],
   "source": [
    "#Plot\n",
    "%matplotlib inline\n",
    "plt.figure()\n",
    "plt.plot(false_positive_rateRR,true_positive_rateRR,label='ROC Curve-RR(area=%0.2f)'%roc_aucRR)\n",
    "plt.plot([0,1],[0,1],'k--')#k for black,r for red,b for blue,g for green\n",
    "plt.xlim([0.0,1.05])\n",
    "plt.ylim([0.0,1.05])\n",
    "plt.xlabel('False Positive Rate')\n",
    "plt.ylabel('True Positive Rate')\n",
    "plt.title('Receiverrating characteristic')\n",
    "plt.legend(loc='lower right')\n",
    "plt.show()"
   ]
  },
  {
   "cell_type": "markdown",
   "id": "0b7b03cb",
   "metadata": {},
   "source": [
    "# Adaptive Boosting"
   ]
  },
  {
   "cell_type": "code",
   "execution_count": 203,
   "id": "02582d10",
   "metadata": {},
   "outputs": [],
   "source": [
    "from sklearn.ensemble import AdaBoostClassifier"
   ]
  },
  {
   "cell_type": "code",
   "execution_count": 204,
   "id": "0cfd18f8",
   "metadata": {},
   "outputs": [],
   "source": [
    "ada=AdaBoostClassifier(DecisionTreeClassifier(max_depth=1),n_estimators=200)"
   ]
  },
  {
   "cell_type": "code",
   "execution_count": 205,
   "id": "0877efe5",
   "metadata": {},
   "outputs": [],
   "source": [
    "adaFit=ada.fit(X_train,y_train)"
   ]
  },
  {
   "cell_type": "code",
   "execution_count": 206,
   "id": "e49be82a",
   "metadata": {},
   "outputs": [
    {
     "data": {
      "text/plain": [
       "array([1, 0, 0, ..., 0, 0, 0], dtype=int64)"
      ]
     },
     "execution_count": 206,
     "metadata": {},
     "output_type": "execute_result"
    }
   ],
   "source": [
    "predADA=ada.predict(X_test)\n",
    "predADA"
   ]
  },
  {
   "cell_type": "code",
   "execution_count": 207,
   "id": "1359d093",
   "metadata": {},
   "outputs": [
    {
     "data": {
      "text/html": [
       "<div>\n",
       "<style scoped>\n",
       "    .dataframe tbody tr th:only-of-type {\n",
       "        vertical-align: middle;\n",
       "    }\n",
       "\n",
       "    .dataframe tbody tr th {\n",
       "        vertical-align: top;\n",
       "    }\n",
       "\n",
       "    .dataframe thead th {\n",
       "        text-align: right;\n",
       "    }\n",
       "</style>\n",
       "<table border=\"1\" class=\"dataframe\">\n",
       "  <thead>\n",
       "    <tr style=\"text-align: right;\">\n",
       "      <th>predict</th>\n",
       "      <th>0</th>\n",
       "      <th>1</th>\n",
       "      <th>All</th>\n",
       "    </tr>\n",
       "    <tr>\n",
       "      <th>Acctual</th>\n",
       "      <th></th>\n",
       "      <th></th>\n",
       "      <th></th>\n",
       "    </tr>\n",
       "  </thead>\n",
       "  <tbody>\n",
       "    <tr>\n",
       "      <th>0</th>\n",
       "      <td>1808</td>\n",
       "      <td>430</td>\n",
       "      <td>2238</td>\n",
       "    </tr>\n",
       "    <tr>\n",
       "      <th>1</th>\n",
       "      <td>596</td>\n",
       "      <td>1698</td>\n",
       "      <td>2294</td>\n",
       "    </tr>\n",
       "    <tr>\n",
       "      <th>All</th>\n",
       "      <td>2404</td>\n",
       "      <td>2128</td>\n",
       "      <td>4532</td>\n",
       "    </tr>\n",
       "  </tbody>\n",
       "</table>\n",
       "</div>"
      ],
      "text/plain": [
       "predict     0     1   All\n",
       "Acctual                  \n",
       "0        1808   430  2238\n",
       "1         596  1698  2294\n",
       "All      2404  2128  4532"
      ]
     },
     "execution_count": 207,
     "metadata": {},
     "output_type": "execute_result"
    }
   ],
   "source": [
    "#cross tab\n",
    "pd.crosstab(y_test,predADA,margins=True,rownames=['Acctual'],colnames=['predict'])"
   ]
  },
  {
   "cell_type": "code",
   "execution_count": 208,
   "id": "20830fca",
   "metadata": {},
   "outputs": [
    {
     "name": "stdout",
     "output_type": "stream",
     "text": [
      "              precision    recall  f1-score   support\n",
      "\n",
      "           0       0.75      0.81      0.78      2238\n",
      "           1       0.80      0.74      0.77      2294\n",
      "\n",
      "    accuracy                           0.77      4532\n",
      "   macro avg       0.78      0.77      0.77      4532\n",
      "weighted avg       0.78      0.77      0.77      4532\n",
      "\n"
     ]
    }
   ],
   "source": [
    "print(classification_report(y_test,predADA)) "
   ]
  },
  {
   "cell_type": "code",
   "execution_count": 210,
   "id": "b2971393",
   "metadata": {},
   "outputs": [
    {
     "data": {
      "text/plain": [
       "0.7736098852603707"
      ]
     },
     "execution_count": 210,
     "metadata": {},
     "output_type": "execute_result"
    }
   ],
   "source": [
    "ADABoost_acc=accuracy_score(y_test,predADA)\n",
    "ADABoost_acc"
   ]
  },
  {
   "cell_type": "code",
   "execution_count": 261,
   "id": "5e8e6ac0",
   "metadata": {},
   "outputs": [
    {
     "data": {
      "text/plain": [
       "0.7740279845702315"
      ]
     },
     "execution_count": 261,
     "metadata": {},
     "output_type": "execute_result"
    }
   ],
   "source": [
    "#ROC Curve\n",
    "false_positive_rateADA,true_positive_rateADA,thresholdsADA=sklearn.metrics.roc_curve(y_test,predADA)\n",
    "roc_aucADA=auc(false_positive_rateADA,true_positive_rateADA)\n",
    "roc_aucADA"
   ]
  },
  {
   "cell_type": "code",
   "execution_count": 262,
   "id": "935ae09f",
   "metadata": {},
   "outputs": [
    {
     "data": {
      "image/png": "[encoded data removed]",
      "text/plain": [
       "<Figure size 432x288 with 1 Axes>"
      ]
     },
     "metadata": {
      "needs_background": "light"
     },
     "output_type": "display_data"
    }
   ],
   "source": [
    "#Plot\n",
    "%matplotlib inline\n",
    "plt.figure()\n",
    "plt.plot(false_positive_rateADA,true_positive_rateADA,label='ROC Curve-ADA(area=%0.2f)'%roc_aucADA)\n",
    "plt.plot([0,1],[0,1],'k--')#k for black,r for red,b for blue,g for green\n",
    "plt.xlim([0.0,1.05])\n",
    "plt.ylim([0.0,1.05])\n",
    "plt.xlabel('False Positive Rate')\n",
    "plt.ylabel('True Positive Rate')\n",
    "plt.title('Receiverrating characteristic')\n",
    "plt.legend(loc='lower right')\n",
    "plt.show()"
   ]
  },
  {
   "cell_type": "markdown",
   "id": "ae67c446",
   "metadata": {},
   "source": [
    "# GRADBOOST"
   ]
  },
  {
   "cell_type": "code",
   "execution_count": 213,
   "id": "c37fec4c",
   "metadata": {},
   "outputs": [],
   "source": [
    "from sklearn.ensemble import GradientBoostingClassifier"
   ]
  },
  {
   "cell_type": "code",
   "execution_count": 214,
   "id": "796923cd",
   "metadata": {},
   "outputs": [],
   "source": [
    "grad=GradientBoostingClassifier(learning_rate = 0.03, max_depth = 5, random_state = 0)"
   ]
  },
  {
   "cell_type": "code",
   "execution_count": 215,
   "id": "1bedb0a5",
   "metadata": {},
   "outputs": [],
   "source": [
    "gradFit=grad.fit(X_train,y_train)"
   ]
  },
  {
   "cell_type": "code",
   "execution_count": 217,
   "id": "08f3d87a",
   "metadata": {},
   "outputs": [
    {
     "data": {
      "text/plain": [
       "array([1, 0, 0, ..., 0, 0, 0], dtype=int64)"
      ]
     },
     "execution_count": 217,
     "metadata": {},
     "output_type": "execute_result"
    }
   ],
   "source": [
    "predGRAD=grad.predict(X_test)\n",
    "predGRAD"
   ]
  },
  {
   "cell_type": "code",
   "execution_count": 218,
   "id": "1ed1bd3e",
   "metadata": {},
   "outputs": [
    {
     "data": {
      "text/html": [
       "<div>\n",
       "<style scoped>\n",
       "    .dataframe tbody tr th:only-of-type {\n",
       "        vertical-align: middle;\n",
       "    }\n",
       "\n",
       "    .dataframe tbody tr th {\n",
       "        vertical-align: top;\n",
       "    }\n",
       "\n",
       "    .dataframe thead th {\n",
       "        text-align: right;\n",
       "    }\n",
       "</style>\n",
       "<table border=\"1\" class=\"dataframe\">\n",
       "  <thead>\n",
       "    <tr style=\"text-align: right;\">\n",
       "      <th>predict</th>\n",
       "      <th>0</th>\n",
       "      <th>1</th>\n",
       "      <th>All</th>\n",
       "    </tr>\n",
       "    <tr>\n",
       "      <th>Acctual</th>\n",
       "      <th></th>\n",
       "      <th></th>\n",
       "      <th></th>\n",
       "    </tr>\n",
       "  </thead>\n",
       "  <tbody>\n",
       "    <tr>\n",
       "      <th>0</th>\n",
       "      <td>1834</td>\n",
       "      <td>404</td>\n",
       "      <td>2238</td>\n",
       "    </tr>\n",
       "    <tr>\n",
       "      <th>1</th>\n",
       "      <td>578</td>\n",
       "      <td>1716</td>\n",
       "      <td>2294</td>\n",
       "    </tr>\n",
       "    <tr>\n",
       "      <th>All</th>\n",
       "      <td>2412</td>\n",
       "      <td>2120</td>\n",
       "      <td>4532</td>\n",
       "    </tr>\n",
       "  </tbody>\n",
       "</table>\n",
       "</div>"
      ],
      "text/plain": [
       "predict     0     1   All\n",
       "Acctual                  \n",
       "0        1834   404  2238\n",
       "1         578  1716  2294\n",
       "All      2412  2120  4532"
      ]
     },
     "execution_count": 218,
     "metadata": {},
     "output_type": "execute_result"
    }
   ],
   "source": [
    "#cross tab\n",
    "pd.crosstab(y_test,predGRAD,margins=True,rownames=['Acctual'],colnames=['predict'])"
   ]
  },
  {
   "cell_type": "code",
   "execution_count": 219,
   "id": "a27a1bb0",
   "metadata": {},
   "outputs": [
    {
     "name": "stdout",
     "output_type": "stream",
     "text": [
      "              precision    recall  f1-score   support\n",
      "\n",
      "           0       0.76      0.82      0.79      2238\n",
      "           1       0.81      0.75      0.78      2294\n",
      "\n",
      "    accuracy                           0.78      4532\n",
      "   macro avg       0.78      0.78      0.78      4532\n",
      "weighted avg       0.79      0.78      0.78      4532\n",
      "\n"
     ]
    }
   ],
   "source": [
    "print(classification_report(y_test,predGRAD))"
   ]
  },
  {
   "cell_type": "code",
   "execution_count": 221,
   "id": "0af81a14",
   "metadata": {},
   "outputs": [
    {
     "data": {
      "text/plain": [
       "0.7833186231244483"
      ]
     },
     "execution_count": 221,
     "metadata": {},
     "output_type": "execute_result"
    }
   ],
   "source": [
    "GBoost_acc=accuracy_score(y_test,predGRAD)\n",
    "GBoost_acc"
   ]
  },
  {
   "cell_type": "code",
   "execution_count": 252,
   "id": "714f5e2d",
   "metadata": {},
   "outputs": [
    {
     "data": {
      "text/plain": [
       "0.7837600205065395"
      ]
     },
     "execution_count": 252,
     "metadata": {},
     "output_type": "execute_result"
    }
   ],
   "source": [
    "#ROC Curve\n",
    "false_positive_rateGB,true_positive_rateGB,thresholdsGB=sklearn.metrics.roc_curve(y_test, predGRAD)\n",
    "roc_aucGB=auc(false_positive_rateGB,true_positive_rateGB)\n",
    "roc_aucGB"
   ]
  },
  {
   "cell_type": "code",
   "execution_count": 253,
   "id": "82837cb2",
   "metadata": {},
   "outputs": [
    {
     "data": {
      "image/png": "[encoded data removed]",
      "text/plain": [
       "<Figure size 432x288 with 1 Axes>"
      ]
     },
     "metadata": {
      "needs_background": "light"
     },
     "output_type": "display_data"
    }
   ],
   "source": [
    "#Plot\n",
    "%matplotlib inline\n",
    "plt.figure()\n",
    "plt.plot(false_positive_rateGB,true_positive_rateGB,label='ROC Curve-GB(area=%0.2f)'%roc_aucGB)\n",
    "plt.plot([0,1],[0,1],'k--')#k for black,r for red,b for blue,g for green\n",
    "plt.xlim([0.0,1.05])\n",
    "plt.ylim([0.0,1.05])\n",
    "plt.xlabel('False Positive Rate')\n",
    "plt.ylabel('True Positive Rate')\n",
    "plt.title('Receiverrating characteristic')\n",
    "plt.legend(loc='lower right')\n",
    "plt.show()"
   ]
  },
  {
   "cell_type": "markdown",
   "id": "a3e6fd2b",
   "metadata": {},
   "source": [
    "# KNN"
   ]
  },
  {
   "cell_type": "code",
   "execution_count": 224,
   "id": "7ef88169",
   "metadata": {},
   "outputs": [],
   "source": [
    "from sklearn.neighbors import KNeighborsClassifier\n",
    "knn=KNeighborsClassifier()"
   ]
  },
  {
   "cell_type": "code",
   "execution_count": 225,
   "id": "5e37176f",
   "metadata": {},
   "outputs": [],
   "source": [
    "df_knn = knn.fit(X_train, y_train)"
   ]
  },
  {
   "cell_type": "code",
   "execution_count": 254,
   "id": "1d0a7079",
   "metadata": {},
   "outputs": [
    {
     "data": {
      "text/plain": [
       "array([1, 0, 0, ..., 0, 1, 1], dtype=int64)"
      ]
     },
     "execution_count": 254,
     "metadata": {},
     "output_type": "execute_result"
    }
   ],
   "source": [
    "y_predknn = df_knn.predict(X_test)\n",
    "y_predknn"
   ]
  },
  {
   "cell_type": "code",
   "execution_count": 227,
   "id": "0c4ad06a",
   "metadata": {},
   "outputs": [
    {
     "data": {
      "text/html": [
       "<div>\n",
       "<style scoped>\n",
       "    .dataframe tbody tr th:only-of-type {\n",
       "        vertical-align: middle;\n",
       "    }\n",
       "\n",
       "    .dataframe tbody tr th {\n",
       "        vertical-align: top;\n",
       "    }\n",
       "\n",
       "    .dataframe thead th {\n",
       "        text-align: right;\n",
       "    }\n",
       "</style>\n",
       "<table border=\"1\" class=\"dataframe\">\n",
       "  <thead>\n",
       "    <tr style=\"text-align: right;\">\n",
       "      <th>predict</th>\n",
       "      <th>0</th>\n",
       "      <th>1</th>\n",
       "      <th>All</th>\n",
       "    </tr>\n",
       "    <tr>\n",
       "      <th>Acctual</th>\n",
       "      <th></th>\n",
       "      <th></th>\n",
       "      <th></th>\n",
       "    </tr>\n",
       "  </thead>\n",
       "  <tbody>\n",
       "    <tr>\n",
       "      <th>0</th>\n",
       "      <td>1661</td>\n",
       "      <td>577</td>\n",
       "      <td>2238</td>\n",
       "    </tr>\n",
       "    <tr>\n",
       "      <th>1</th>\n",
       "      <td>322</td>\n",
       "      <td>1972</td>\n",
       "      <td>2294</td>\n",
       "    </tr>\n",
       "    <tr>\n",
       "      <th>All</th>\n",
       "      <td>1983</td>\n",
       "      <td>2549</td>\n",
       "      <td>4532</td>\n",
       "    </tr>\n",
       "  </tbody>\n",
       "</table>\n",
       "</div>"
      ],
      "text/plain": [
       "predict     0     1   All\n",
       "Acctual                  \n",
       "0        1661   577  2238\n",
       "1         322  1972  2294\n",
       "All      1983  2549  4532"
      ]
     },
     "execution_count": 227,
     "metadata": {},
     "output_type": "execute_result"
    }
   ],
   "source": [
    "#cross tab\n",
    "pd.crosstab(y_test,y_predknn,margins=True,rownames=['Acctual'],colnames=['predict'])"
   ]
  },
  {
   "cell_type": "code",
   "execution_count": 229,
   "id": "56b80222",
   "metadata": {},
   "outputs": [
    {
     "name": "stdout",
     "output_type": "stream",
     "text": [
      "              precision    recall  f1-score   support\n",
      "\n",
      "           0       0.84      0.74      0.79      2238\n",
      "           1       0.77      0.86      0.81      2294\n",
      "\n",
      "    accuracy                           0.80      4532\n",
      "   macro avg       0.81      0.80      0.80      4532\n",
      "weighted avg       0.81      0.80      0.80      4532\n",
      "\n"
     ]
    }
   ],
   "source": [
    "print(classification_report(y_test,y_predknn))"
   ]
  },
  {
   "cell_type": "code",
   "execution_count": 250,
   "id": "3f5f84bc",
   "metadata": {},
   "outputs": [
    {
     "data": {
      "text/plain": [
       "0.8016328331862312"
      ]
     },
     "execution_count": 250,
     "metadata": {},
     "output_type": "execute_result"
    }
   ],
   "source": [
    "KNN_acc=accuracy_score(y_test,y_predknn)\n",
    "KNN_acc"
   ]
  },
  {
   "cell_type": "code",
   "execution_count": 255,
   "id": "e7b38ee6",
   "metadata": {},
   "outputs": [
    {
     "data": {
      "text/plain": [
       "0.8009071728478456"
      ]
     },
     "execution_count": 255,
     "metadata": {},
     "output_type": "execute_result"
    }
   ],
   "source": [
    "#ROC Curve\n",
    "false_positive_rateKNN,true_positive_rateKNN,thresholdsKNN=sklearn.metrics.roc_curve(y_test,y_predknn)\n",
    "roc_aucKNN=auc(false_positive_rateKNN,true_positive_rateKNN)\n",
    "roc_aucKNN"
   ]
  },
  {
   "cell_type": "code",
   "execution_count": 256,
   "id": "9b9ee295",
   "metadata": {},
   "outputs": [
    {
     "data": {
      "image/png": "[encoded data removed]",
      "text/plain": [
       "<Figure size 432x288 with 1 Axes>"
      ]
     },
     "metadata": {
      "needs_background": "light"
     },
     "output_type": "display_data"
    }
   ],
   "source": [
    "#Plot\n",
    "%matplotlib inline\n",
    "plt.figure()\n",
    "plt.plot(false_positive_rateKNN,true_positive_rateKNN,label='ROC Curve-KNN(area=%0.2f)'%roc_aucKNN)\n",
    "plt.plot([0,1],[0,1],'k--')#k for black,r for red,b for blue,g for green\n",
    "plt.xlim([0.0,1.05])\n",
    "plt.ylim([0.0,1.05])\n",
    "plt.xlabel('False Positive Rate')\n",
    "plt.ylabel('True Positive Rate')\n",
    "plt.title('Receiverrating characteristic')\n",
    "plt.legend(loc='lower right')\n",
    "plt.show()"
   ]
  },
  {
   "cell_type": "markdown",
   "id": "dbb62a36",
   "metadata": {},
   "source": [
    "# Naïve Bayes"
   ]
  },
  {
   "cell_type": "code",
   "execution_count": 232,
   "id": "0df6fcf9",
   "metadata": {},
   "outputs": [],
   "source": [
    "from sklearn.naive_bayes import GaussianNB\n",
    "NB = GaussianNB()"
   ]
  },
  {
   "cell_type": "code",
   "execution_count": 233,
   "id": "20c2ab04",
   "metadata": {},
   "outputs": [],
   "source": [
    "NB_Model = NB.fit(X_train, y_train)"
   ]
  },
  {
   "cell_type": "code",
   "execution_count": 235,
   "id": "d2b33912",
   "metadata": {},
   "outputs": [
    {
     "data": {
      "text/plain": [
       "array([1, 0, 0, ..., 0, 0, 1], dtype=int64)"
      ]
     },
     "execution_count": 235,
     "metadata": {},
     "output_type": "execute_result"
    }
   ],
   "source": [
    "NB_Pred = NB_Model.predict(X_test)\n",
    "NB_Pred"
   ]
  },
  {
   "cell_type": "code",
   "execution_count": 236,
   "id": "d2391fda",
   "metadata": {},
   "outputs": [
    {
     "data": {
      "text/html": [
       "<div>\n",
       "<style scoped>\n",
       "    .dataframe tbody tr th:only-of-type {\n",
       "        vertical-align: middle;\n",
       "    }\n",
       "\n",
       "    .dataframe tbody tr th {\n",
       "        vertical-align: top;\n",
       "    }\n",
       "\n",
       "    .dataframe thead th {\n",
       "        text-align: right;\n",
       "    }\n",
       "</style>\n",
       "<table border=\"1\" class=\"dataframe\">\n",
       "  <thead>\n",
       "    <tr style=\"text-align: right;\">\n",
       "      <th>Predicted</th>\n",
       "      <th>0</th>\n",
       "      <th>1</th>\n",
       "      <th>All</th>\n",
       "    </tr>\n",
       "    <tr>\n",
       "      <th>Actual</th>\n",
       "      <th></th>\n",
       "      <th></th>\n",
       "      <th></th>\n",
       "    </tr>\n",
       "  </thead>\n",
       "  <tbody>\n",
       "    <tr>\n",
       "      <th>0</th>\n",
       "      <td>1787</td>\n",
       "      <td>451</td>\n",
       "      <td>2238</td>\n",
       "    </tr>\n",
       "    <tr>\n",
       "      <th>1</th>\n",
       "      <td>706</td>\n",
       "      <td>1588</td>\n",
       "      <td>2294</td>\n",
       "    </tr>\n",
       "    <tr>\n",
       "      <th>All</th>\n",
       "      <td>2493</td>\n",
       "      <td>2039</td>\n",
       "      <td>4532</td>\n",
       "    </tr>\n",
       "  </tbody>\n",
       "</table>\n",
       "</div>"
      ],
      "text/plain": [
       "Predicted     0     1   All\n",
       "Actual                     \n",
       "0          1787   451  2238\n",
       "1           706  1588  2294\n",
       "All        2493  2039  4532"
      ]
     },
     "execution_count": 236,
     "metadata": {},
     "output_type": "execute_result"
    }
   ],
   "source": [
    "# confusion_matrix\n",
    "pd.crosstab(y_test, NB_Pred, rownames = ['Actual'], colnames = ['Predicted'], margins = True)"
   ]
  },
  {
   "cell_type": "code",
   "execution_count": 237,
   "id": "83e23fa6",
   "metadata": {},
   "outputs": [
    {
     "name": "stdout",
     "output_type": "stream",
     "text": [
      "              precision    recall  f1-score   support\n",
      "\n",
      "           0       0.72      0.80      0.76      2238\n",
      "           1       0.78      0.69      0.73      2294\n",
      "\n",
      "    accuracy                           0.74      4532\n",
      "   macro avg       0.75      0.75      0.74      4532\n",
      "weighted avg       0.75      0.74      0.74      4532\n",
      "\n"
     ]
    }
   ],
   "source": [
    "print(classification_report(y_test,NB_Pred))"
   ]
  },
  {
   "cell_type": "code",
   "execution_count": 238,
   "id": "9ce381f5",
   "metadata": {},
   "outputs": [
    {
     "data": {
      "text/plain": [
       "0.7447043248014121"
      ]
     },
     "execution_count": 238,
     "metadata": {},
     "output_type": "execute_result"
    }
   ],
   "source": [
    "NB_acc=accuracy_score(y_test,NB_Pred)\n",
    "NB_acc"
   ]
  },
  {
   "cell_type": "code",
   "execution_count": 257,
   "id": "cab61a1d",
   "metadata": {},
   "outputs": [
    {
     "data": {
      "text/plain": [
       "0.7453607070704709"
      ]
     },
     "execution_count": 257,
     "metadata": {},
     "output_type": "execute_result"
    }
   ],
   "source": [
    "#ROC Curve\n",
    "false_positive_rateNB,true_positive_rateNB,thresholdsNB=sklearn.metrics.roc_curve(y_test,NB_Pred)\n",
    "roc_aucNB=auc(false_positive_rateNB,true_positive_rateNB)\n",
    "roc_aucNB"
   ]
  },
  {
   "cell_type": "code",
   "execution_count": 258,
   "id": "c2d708d8",
   "metadata": {},
   "outputs": [
    {
     "data": {
      "image/png": "[encoded data removed]",
      "text/plain": [
       "<Figure size 432x288 with 1 Axes>"
      ]
     },
     "metadata": {
      "needs_background": "light"
     },
     "output_type": "display_data"
    }
   ],
   "source": [
    "#Plot\n",
    "%matplotlib inline\n",
    "plt.figure()\n",
    "plt.plot(false_positive_rateNB,true_positive_rateNB,label='ROC Curve-NB(area=%0.2f)'%roc_aucNB)\n",
    "plt.plot([0,1],[0,1],'k--')#k for black,r for red,b for blue,g for green\n",
    "plt.xlim([0.0,1.05])\n",
    "plt.ylim([0.0,1.05])\n",
    "plt.xlabel('False Positive Rate')\n",
    "plt.ylabel('True Positive Rate')\n",
    "plt.title('Receiverrating characteristic')\n",
    "plt.legend(loc='lower right')\n",
    "plt.show()"
   ]
  },
  {
   "cell_type": "markdown",
   "id": "878bd189",
   "metadata": {},
   "source": [
    "# SVM"
   ]
  },
  {
   "cell_type": "code",
   "execution_count": 239,
   "id": "9b78dcfd",
   "metadata": {},
   "outputs": [],
   "source": [
    "from sklearn.svm import SVC"
   ]
  },
  {
   "cell_type": "code",
   "execution_count": 240,
   "id": "30a0c49e",
   "metadata": {},
   "outputs": [],
   "source": [
    "svm = SVC(kernel = 'linear', random_state = 1, C = 1.0)"
   ]
  },
  {
   "cell_type": "code",
   "execution_count": 244,
   "id": "a0037ccc",
   "metadata": {},
   "outputs": [],
   "source": [
    "svm_model=svm.fit(X_train, y_train)"
   ]
  },
  {
   "cell_type": "code",
   "execution_count": 245,
   "id": "8e6b88fe",
   "metadata": {},
   "outputs": [
    {
     "data": {
      "text/plain": [
       "array([1, 0, 0, ..., 0, 0, 1], dtype=int64)"
      ]
     },
     "execution_count": 245,
     "metadata": {},
     "output_type": "execute_result"
    }
   ],
   "source": [
    "svm_Pred = svm_model.predict(X_test)\n",
    "svm_Pred"
   ]
  },
  {
   "cell_type": "code",
   "execution_count": 246,
   "id": "132a0ca0",
   "metadata": {},
   "outputs": [
    {
     "data": {
      "text/html": [
       "<div>\n",
       "<style scoped>\n",
       "    .dataframe tbody tr th:only-of-type {\n",
       "        vertical-align: middle;\n",
       "    }\n",
       "\n",
       "    .dataframe tbody tr th {\n",
       "        vertical-align: top;\n",
       "    }\n",
       "\n",
       "    .dataframe thead th {\n",
       "        text-align: right;\n",
       "    }\n",
       "</style>\n",
       "<table border=\"1\" class=\"dataframe\">\n",
       "  <thead>\n",
       "    <tr style=\"text-align: right;\">\n",
       "      <th>Predicted</th>\n",
       "      <th>0</th>\n",
       "      <th>1</th>\n",
       "      <th>All</th>\n",
       "    </tr>\n",
       "    <tr>\n",
       "      <th>Actual</th>\n",
       "      <th></th>\n",
       "      <th></th>\n",
       "      <th></th>\n",
       "    </tr>\n",
       "  </thead>\n",
       "  <tbody>\n",
       "    <tr>\n",
       "      <th>0</th>\n",
       "      <td>1677</td>\n",
       "      <td>561</td>\n",
       "      <td>2238</td>\n",
       "    </tr>\n",
       "    <tr>\n",
       "      <th>1</th>\n",
       "      <td>734</td>\n",
       "      <td>1560</td>\n",
       "      <td>2294</td>\n",
       "    </tr>\n",
       "    <tr>\n",
       "      <th>All</th>\n",
       "      <td>2411</td>\n",
       "      <td>2121</td>\n",
       "      <td>4532</td>\n",
       "    </tr>\n",
       "  </tbody>\n",
       "</table>\n",
       "</div>"
      ],
      "text/plain": [
       "Predicted     0     1   All\n",
       "Actual                     \n",
       "0          1677   561  2238\n",
       "1           734  1560  2294\n",
       "All        2411  2121  4532"
      ]
     },
     "execution_count": 246,
     "metadata": {},
     "output_type": "execute_result"
    }
   ],
   "source": [
    "# confusion_matrix\n",
    "pd.crosstab(y_test,svm_Pred, rownames = ['Actual'], colnames = ['Predicted'], margins = True)"
   ]
  },
  {
   "cell_type": "code",
   "execution_count": 247,
   "id": "68034744",
   "metadata": {},
   "outputs": [
    {
     "name": "stdout",
     "output_type": "stream",
     "text": [
      "              precision    recall  f1-score   support\n",
      "\n",
      "           0       0.70      0.75      0.72      2238\n",
      "           1       0.74      0.68      0.71      2294\n",
      "\n",
      "    accuracy                           0.71      4532\n",
      "   macro avg       0.72      0.71      0.71      4532\n",
      "weighted avg       0.72      0.71      0.71      4532\n",
      "\n"
     ]
    }
   ],
   "source": [
    "print(classification_report(y_test,svm_Pred))"
   ]
  },
  {
   "cell_type": "code",
   "execution_count": 248,
   "id": "f52bbce0",
   "metadata": {},
   "outputs": [
    {
     "data": {
      "text/plain": [
       "0.7142541924095323"
      ]
     },
     "execution_count": 248,
     "metadata": {},
     "output_type": "execute_result"
    }
   ],
   "source": [
    "svm_acc=accuracy_score(y_test,svm_Pred)\n",
    "svm_acc"
   ]
  },
  {
   "cell_type": "code",
   "execution_count": 259,
   "id": "b243e1fd",
   "metadata": {},
   "outputs": [
    {
     "data": {
      "text/plain": [
       "0.7146823161481987"
      ]
     },
     "execution_count": 259,
     "metadata": {},
     "output_type": "execute_result"
    }
   ],
   "source": [
    "#ROC Curve\n",
    "false_positive_rateSVM,true_positive_rateSVM,thresholdsSVM=sklearn.metrics.roc_curve(y_test,svm_Pred)\n",
    "roc_aucSVM=auc(false_positive_rateSVM,true_positive_rateSVM)\n",
    "roc_aucSVM"
   ]
  },
  {
   "cell_type": "code",
   "execution_count": 260,
   "id": "a8910f20",
   "metadata": {},
   "outputs": [
    {
     "data": {
      "image/png": "[encoded data removed]",
      "text/plain": [
       "<Figure size 432x288 with 1 Axes>"
      ]
     },
     "metadata": {
      "needs_background": "light"
     },
     "output_type": "display_data"
    }
   ],
   "source": [
    "#Plot\n",
    "%matplotlib inline\n",
    "plt.figure()\n",
    "plt.plot(false_positive_rateSVM,true_positive_rateSVM,label='ROC Curve-SVM(area=%0.2f)'%roc_aucSVM)\n",
    "plt.plot([0,1],[0,1],'k--')#k for black,r for red,b for blue,g for green\n",
    "plt.xlim([0.0,1.05])\n",
    "plt.ylim([0.0,1.05])\n",
    "plt.xlabel('False Positive Rate')\n",
    "plt.ylabel('True Positive Rate')\n",
    "plt.title('Receiverrating characteristic')\n",
    "plt.legend(loc='lower right')\n",
    "plt.show()"
   ]
  },
  {
   "cell_type": "code",
   "execution_count": 275,
   "id": "c854bb41",
   "metadata": {},
   "outputs": [
    {
     "data": {
      "image/png": "[encoded data removed]",
      "text/plain": [
       "<Figure size 864x576 with 1 Axes>"
      ]
     },
     "metadata": {},
     "output_type": "display_data"
    }
   ],
   "source": [
    "list_acc = [Logi_acc,DT_acc,RF_Acc,Grid_acc,RanSearch_acc,ADABoost_acc,GBoost_acc,KNN_acc,NB_acc,svm_acc]\n",
    "\n",
    "list1 = ['Logistic Regression','Decision Tree','Random Forest','Grid Search','Random Search','ADABoost','GRADBoost','KNN','Naive Bayes','SVM']\n",
    "\n",
    "plt.rcParams['figure.figsize'] = (12, 8)\n",
    "sns.set_style('darkgrid')\n",
    "ax = sns.barplot(x = list1, y = list_acc, palette = 'muted', saturation = 1.5)\n",
    "plt.xlabel('Classifier Models', fontsize = 20)\n",
    "plt.ylabel('% of Accuracy', fontsize = 20)\n",
    "plt.title('Accuracy of different Classifier Models', fontsize = 20)\n",
    "plt.xticks(fontsize = 12, horizontalalignment = 'center', rotation = 90)\n",
    "plt.yticks(fontsize = 13)\n",
    "\n",
    "for p in ax.patches:\n",
    "    width, height = p.get_width(), p.get_height()\n",
    "    x, y = p.get_xy()\n",
    "    ax.annotate(f'{height : .2%}', (x + width/2, y + height*1.02), ha = 'center', fontsize = 'x-large')\n",
    "\n",
    "plt.show()"
   ]
  },
  {
   "cell_type": "code",
   "execution_count": null,
   "id": "bcd6750c",
   "metadata": {},
   "outputs": [],
   "source": []
  }
 ],
 "metadata": {
  "kernelspec": {
   "display_name": "Python 3 (ipykernel)",
   "language": "python",
   "name": "python3"
  },
  "language_info": {
   "codemirror_mode": {
    "name": "ipython",
    "version": 3
   },
   "file_extension": ".py",
   "mimetype": "text/x-python",
   "name": "python",
   "nbconvert_exporter": "python",
   "pygments_lexer": "ipython3",
   "version": "3.9.12"
  }
 },
 "nbformat": 4,
 "nbformat_minor": 5
}
